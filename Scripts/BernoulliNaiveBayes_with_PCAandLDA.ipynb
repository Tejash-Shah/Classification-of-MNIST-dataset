{
 "cells": [
  {
   "cell_type": "code",
   "execution_count": 8,
   "metadata": {},
   "outputs": [],
   "source": [
    "import numpy as np\n",
    "import tensorflow as tf\n",
    "from sklearn.datasets import fetch_mldata\n",
    "import matplotlib.pyplot as plt\n",
    "from sklearn import datasets, svm, metrics\n",
    "from sklearn import cross_validation\n",
    "#from sklearn.neural_network import MLPClassifier\n",
    "from sklearn import tree\n",
    "import time \n",
    "from sklearn import neighbors\n",
    "from sklearn.utils import shuffle\n",
    "tf.logging.set_verbosity(tf.logging.ERROR)\n",
    "from sklearn.naive_bayes import BernoulliNB\n",
    "from sklearn.decomposition import PCA\n",
    "from sklearn.discriminant_analysis import LinearDiscriminantAnalysis"
   ]
  },
  {
   "cell_type": "code",
   "execution_count": 9,
   "metadata": {
    "collapsed": true
   },
   "outputs": [],
   "source": [
    "mnist = fetch_mldata(\"MNIST original\")"
   ]
  },
  {
   "cell_type": "code",
   "execution_count": 10,
   "metadata": {},
   "outputs": [
    {
     "name": "stdout",
     "output_type": "stream",
     "text": [
      "(70000, 784)\n"
     ]
    }
   ],
   "source": [
    "print(mnist.data.shape)"
   ]
  },
  {
   "cell_type": "code",
   "execution_count": 11,
   "metadata": {},
   "outputs": [
    {
     "name": "stdout",
     "output_type": "stream",
     "text": [
      "[ 0.  1.  2.  3.  4.  5.  6.  7.  8.  9.]\n"
     ]
    }
   ],
   "source": [
    "print(np.unique(mnist.target))"
   ]
  },
  {
   "cell_type": "code",
   "execution_count": 12,
   "metadata": {
    "collapsed": true
   },
   "outputs": [],
   "source": [
    "X, y = np.float32(mnist.data[:70000]), np.float32(mnist.target[:70000])\n",
    "X, y = shuffle(X,y)"
   ]
  },
  {
   "cell_type": "code",
   "execution_count": 13,
   "metadata": {
    "collapsed": true
   },
   "outputs": [],
   "source": [
    "#X, y = np.float32(mnist.data[:70000]), np.float32(mnist.target[:70000])\n",
    "X_train, y_train = np.float32(X[:15000]), np.float32(y[:15000])\n",
    "X_test, y_test = np.float32(X[60000:]), np.float32(y[60000:])"
   ]
  },
  {
   "cell_type": "markdown",
   "metadata": {},
   "source": [
    "# PCA"
   ]
  },
  {
   "cell_type": "code",
   "execution_count": 14,
   "metadata": {},
   "outputs": [
    {
     "name": "stdout",
     "output_type": "stream",
     "text": [
      "Variance covered 1.0\n",
      "PCA Shape (15000, 700)\n"
     ]
    }
   ],
   "source": [
    "pca = PCA(n_components=700)\n",
    "X_train_pca = pca.fit_transform(X_train, y_train)\n",
    "X_test_pca = pca.transform(X_test)\n",
    "print('Variance covered', pca.explained_variance_ratio_.sum())\n",
    "print('PCA Shape', X_train_pca.shape)"
   ]
  },
  {
   "cell_type": "markdown",
   "metadata": {},
   "source": [
    "# LDA"
   ]
  },
  {
   "cell_type": "code",
   "execution_count": 15,
   "metadata": {},
   "outputs": [
    {
     "name": "stdout",
     "output_type": "stream",
     "text": [
      "Variance covered 1.0\n",
      "PCA Shape (15000, 9)\n"
     ]
    }
   ],
   "source": [
    "lda = LinearDiscriminantAnalysis()\n",
    "X_train_lda = lda.fit_transform(X_train_pca, y_train)\n",
    "X_test_lda = lda.transform(X_test_pca)\n",
    "print('Variance covered', lda.explained_variance_ratio_.sum())\n",
    "print('PCA Shape', X_train_lda.shape)"
   ]
  },
  {
   "cell_type": "code",
   "execution_count": 16,
   "metadata": {
    "collapsed": true
   },
   "outputs": [],
   "source": [
    "start = int(round(time.time() * 1000))"
   ]
  },
  {
   "cell_type": "code",
   "execution_count": 17,
   "metadata": {},
   "outputs": [
    {
     "name": "stdout",
     "output_type": "stream",
     "text": [
      "--NN fitting finished in  125 ms--------------\n"
     ]
    }
   ],
   "source": [
    "BB = BernoulliNB()\n",
    "BB.fit(X_train_lda,y_train)\n",
    "end = int(round(time.time() * 1000))\n",
    "print(\"--NN fitting finished in \", (end-start), \"ms--------------\")\n",
    "predicted=BB.predict(X_test_lda)\n",
    "expected=y_test"
   ]
  },
  {
   "cell_type": "code",
   "execution_count": 18,
   "metadata": {},
   "outputs": [
    {
     "name": "stdout",
     "output_type": "stream",
     "text": [
      "[ 0.82217782  0.79873376  0.829       0.80860287  0.7987988 ]\n"
     ]
    }
   ],
   "source": [
    "print(cross_validation.cross_val_score(BB, X_train_lda,y_train, cv=5))"
   ]
  },
  {
   "cell_type": "code",
   "execution_count": 19,
   "metadata": {},
   "outputs": [
    {
     "name": "stdout",
     "output_type": "stream",
     "text": [
      "Classification report for kNN classifier BernoulliNB(alpha=1.0, binarize=0.0, class_prior=None, fit_prior=True):\n",
      "             precision    recall  f1-score   support\n",
      "\n",
      "        0.0       0.83      0.87      0.85       931\n",
      "        1.0       0.82      0.83      0.83      1176\n",
      "        2.0       0.81      0.77      0.79      1016\n",
      "        3.0       0.78      0.71      0.74      1009\n",
      "        4.0       0.84      0.78      0.81       988\n",
      "        5.0       0.69      0.65      0.67       903\n",
      "        6.0       0.78      0.83      0.80       975\n",
      "        7.0       0.84      0.83      0.83      1031\n",
      "        8.0       0.63      0.69      0.66      1011\n",
      "        9.0       0.71      0.77      0.74       960\n",
      "\n",
      "avg / total       0.78      0.77      0.77     10000\n",
      "\n",
      "\n",
      "Confusion matrix:\n",
      "[[810   4  11   7   2  41  38   0  16   2]\n",
      " [  0 976  19   1   7  12  18   6 131   6]\n",
      " [ 34  24 778  26   9  11  70  25  23  16]\n",
      " [  9  26  48 714   5  58  20  26  80  23]\n",
      " [  8   9  14   3 775  11  15   7  17 129]\n",
      " [ 47  20   6  75  17 587  33  15  86  17]\n",
      " [ 25   4  44   2   4  47 807   1  35   6]\n",
      " [  5  43  20  17  19   4   0 852   4  67]\n",
      " [ 22  61  19  40  24  78  22   6 696  43]\n",
      " [ 11  23   2  26  57   7   8  75  10 741]]\n"
     ]
    }
   ],
   "source": [
    "print(\"Classification report for kNN classifier %s:\\n%s\\n\"\n",
    "     % (BB, metrics.classification_report(expected, predicted)))\n",
    "print(\"Confusion matrix:\\n%s\" % metrics.confusion_matrix(expected, predicted))"
   ]
  },
  {
   "cell_type": "code",
   "execution_count": 20,
   "metadata": {},
   "outputs": [
    {
     "name": "stdout",
     "output_type": "stream",
     "text": [
      "Accuracy is: 77.36\n"
     ]
    }
   ],
   "source": [
    "print(\"Accuracy is:\",round(metrics.accuracy_score(expected,predicted)*100,2))"
   ]
  },
  {
   "cell_type": "code",
   "execution_count": 21,
   "metadata": {},
   "outputs": [
    {
     "name": "stdout",
     "output_type": "stream",
     "text": [
      "Test error is: 22.64\n"
     ]
    }
   ],
   "source": [
    "print(\"Test error is:\",100-round(metrics.accuracy_score(expected,predicted)*100,2))"
   ]
  }
 ],
 "metadata": {
  "kernelspec": {
   "display_name": "Python 3",
   "language": "python",
   "name": "python3"
  },
  "language_info": {
   "codemirror_mode": {
    "name": "ipython",
    "version": 3
   },
   "file_extension": ".py",
   "mimetype": "text/x-python",
   "name": "python",
   "nbconvert_exporter": "python",
   "pygments_lexer": "ipython3",
   "version": "3.5.4"
  }
 },
 "nbformat": 4,
 "nbformat_minor": 2
}
