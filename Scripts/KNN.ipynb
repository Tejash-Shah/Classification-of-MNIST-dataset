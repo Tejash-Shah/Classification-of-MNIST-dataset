{
 "cells": [
  {
   "cell_type": "code",
   "execution_count": 23,
   "metadata": {},
   "outputs": [],
   "source": [
    "import numpy as np\n",
    "import tensorflow as tf\n",
    "from sklearn.datasets import fetch_mldata\n",
    "import matplotlib.pyplot as plt\n",
    "from sklearn import datasets, svm, metrics\n",
    "from sklearn import cross_validation\n",
    "import time \n",
    "from sklearn import neighbors\n",
    "from sklearn.utils import shuffle\n",
    "tf.logging.set_verbosity(tf.logging.ERROR)"
   ]
  },
  {
   "cell_type": "code",
   "execution_count": 24,
   "metadata": {
    "collapsed": true
   },
   "outputs": [],
   "source": [
    "mnist = fetch_mldata(\"MNIST original\")"
   ]
  },
  {
   "cell_type": "code",
   "execution_count": 25,
   "metadata": {},
   "outputs": [
    {
     "name": "stdout",
     "output_type": "stream",
     "text": [
      "(70000, 784)\n"
     ]
    }
   ],
   "source": [
    "print(mnist.data.shape)"
   ]
  },
  {
   "cell_type": "code",
   "execution_count": 26,
   "metadata": {},
   "outputs": [
    {
     "name": "stdout",
     "output_type": "stream",
     "text": [
      "[ 0.  1.  2.  3.  4.  5.  6.  7.  8.  9.]\n"
     ]
    }
   ],
   "source": [
    "print(np.unique(mnist.target))"
   ]
  },
  {
   "cell_type": "code",
   "execution_count": 27,
   "metadata": {
    "collapsed": true
   },
   "outputs": [],
   "source": [
    "X, y = np.float32(mnist.data[:70000]), np.float32(mnist.target[:70000])\n",
    "X, y = shuffle(X,y)"
   ]
  },
  {
   "cell_type": "code",
   "execution_count": 28,
   "metadata": {
    "collapsed": true
   },
   "outputs": [],
   "source": [
    "X_train, y_train = np.float32(X[:15000]), np.float32(y[:15000])\n",
    "X_test, y_test = np.float32(X[60000:]), np.float32(y[60000:])"
   ]
  },
  {
   "cell_type": "code",
   "execution_count": 29,
   "metadata": {},
   "outputs": [
    {
     "name": "stdout",
     "output_type": "stream",
     "text": [
      "<class 'numpy.ndarray'>\n"
     ]
    }
   ],
   "source": [
    "print(type(X_train))"
   ]
  },
  {
   "cell_type": "code",
   "execution_count": 30,
   "metadata": {},
   "outputs": [
    {
     "name": "stdout",
     "output_type": "stream",
     "text": [
      "(70000, 784)\n"
     ]
    }
   ],
   "source": [
    "print (mnist.data.shape)"
   ]
  },
  {
   "cell_type": "code",
   "execution_count": 31,
   "metadata": {},
   "outputs": [
    {
     "name": "stdout",
     "output_type": "stream",
     "text": [
      "KNN fitting finished in  1238 ms\n",
      "--------- Cross validation accuracy--------\n",
      "cross validation with k value 5\n",
      "Cross validation [ 0.94805195  0.95069953  0.95466667  0.95        0.94958264]\n",
      "Accuracy: 0.9506 (+/- 0.0044)\n",
      "KNN fitting finished in  236948 ms\n",
      "--------- Cross validation accuracy--------\n",
      "cross validation with k value 15\n",
      "Cross validation [ 0.94139194  0.94337109  0.94966667  0.94466667  0.94290484]\n",
      "Accuracy: 0.9444 (+/- 0.0057)\n",
      "KNN fitting finished in  474403 ms\n",
      "--------- Cross validation accuracy--------\n",
      "cross validation with k value 25\n",
      "Cross validation [ 0.93339993  0.93337775  0.93733333  0.936       0.93522538]\n",
      "Accuracy: 0.9351 (+/- 0.0031)\n",
      "KNN fitting finished in  718635 ms\n",
      "--------- Cross validation accuracy--------\n",
      "cross validation with k value 35\n",
      "Cross validation [ 0.92041292  0.93004664  0.93066667  0.93        0.92654424]\n",
      "Accuracy: 0.9275 (+/- 0.0077)\n",
      "KNN fitting finished in  981842 ms\n",
      "--------- Cross validation accuracy--------\n",
      "cross validation with k value 45\n",
      "Cross validation [ 0.91641692  0.92205197  0.92533333  0.922       0.92320534]\n",
      "Accuracy: 0.9218 (+/- 0.0059)\n",
      "KNN fitting finished in  1246369 ms\n",
      "--------- Cross validation accuracy--------\n",
      "cross validation with k value 55\n",
      "Cross validation [ 0.91042291  0.91905396  0.91866667  0.91833333  0.91786311]\n",
      "Accuracy: 0.9169 (+/- 0.0065)\n",
      "KNN fitting finished in  1500530 ms\n",
      "--------- Cross validation accuracy--------\n",
      "cross validation with k value 65\n",
      "Cross validation [ 0.9047619   0.91272485  0.91533333  0.91133333  0.91318865]\n",
      "Accuracy: 0.9115 (+/- 0.0072)\n",
      "KNN fitting finished in  1750054 ms\n",
      "--------- Cross validation accuracy--------\n",
      "cross validation with k value 75\n",
      "Cross validation [ 0.9017649   0.90972685  0.91166667  0.90833333  0.90951586]\n",
      "Accuracy: 0.9082 (+/- 0.0068)\n",
      "KNN fitting finished in  2055835 ms\n",
      "--------- Cross validation accuracy--------\n",
      "cross validation with k value 85\n",
      "Cross validation [ 0.8991009   0.90572951  0.90633333  0.90633333  0.90784641]\n",
      "Accuracy: 0.9051 (+/- 0.0061)\n",
      "KNN fitting finished in  2365318 ms\n",
      "--------- Cross validation accuracy--------\n",
      "cross validation with k value 95\n",
      "Cross validation [ 0.8951049   0.8994004   0.90133333  0.902       0.90116861]\n",
      "Accuracy: 0.8998 (+/- 0.0050)\n"
     ]
    }
   ],
   "source": [
    "start = int(round(time.time() * 1000))\n",
    "k = np.arange(5,100,10)\n",
    "acc = []\n",
    "for i in k:\n",
    "    clf = neighbors.KNeighborsClassifier(n_neighbors=i)\n",
    "    clf.fit(X_train, y_train)\n",
    "    end = int(round(time.time() * 1000))\n",
    "    print(\"KNN fitting finished in \", (end-start), \"ms\")\n",
    "    print(\"--------- Cross validation accuracy--------\")\n",
    "    scores = cross_validation.cross_val_score(clf, X_train,y_train, cv=5)\n",
    "    print('cross validation with k value', i)\n",
    "    print ('Cross validation', scores)\n",
    "    acc.append(scores.mean())\n",
    "    print(\"Accuracy: %0.4f (+/- %0.4f)\" % (scores.mean(), scores.std() * 2))\n",
    "\n",
    "\n",
    "\n"
   ]
  },
  {
   "cell_type": "code",
   "execution_count": 32,
   "metadata": {},
   "outputs": [
    {
     "data": {
      "image/png": "[encoded data removed]",
      "text/plain": [
       "<matplotlib.figure.Figure at 0x24377037a58>"
      ]
     },
     "metadata": {},
     "output_type": "display_data"
    }
   ],
   "source": [
    "plt.plot(k,acc)\n",
    "plt.xlabel('k-value')\n",
    "plt.ylabel('Accuracy')\n",
    "plt.show()"
   ]
  },
  {
   "cell_type": "code",
   "execution_count": 33,
   "metadata": {},
   "outputs": [
    {
     "name": "stdout",
     "output_type": "stream",
     "text": [
      "Classification report for kNN classifier KNeighborsClassifier(algorithm='auto', leaf_size=30, metric='minkowski',\n",
      "           metric_params=None, n_jobs=1, n_neighbors=5, p=2,\n",
      "           weights='uniform'):\n",
      "             precision    recall  f1-score   support\n",
      "\n",
      "        0.0       0.96      0.99      0.97       962\n",
      "        1.0       0.93      0.99      0.96      1177\n",
      "        2.0       0.97      0.94      0.96       994\n",
      "        3.0       0.95      0.94      0.94      1007\n",
      "        4.0       0.96      0.95      0.95      1003\n",
      "        5.0       0.94      0.94      0.94       912\n",
      "        6.0       0.96      0.99      0.97       977\n",
      "        7.0       0.96      0.97      0.96      1012\n",
      "        8.0       0.98      0.87      0.92       993\n",
      "        9.0       0.93      0.94      0.93       963\n",
      "\n",
      "avg / total       0.95      0.95      0.95     10000\n",
      "\n",
      "\n",
      "Confusion matrix:\n",
      "[[ 949    1    3    0    0    0    9    0    0    0]\n",
      " [   0 1168    5    0    4    0    0    0    0    0]\n",
      " [  11   18  935    2    2    2    4   17    2    1]\n",
      " [   2    5    8  950    1   16    2    9   10    4]\n",
      " [   1   15    2    0  949    1    1    1    0   33]\n",
      " [   7    6    0   17    0  858   16    2    1    5]\n",
      " [   7    1    0    0    2    4  963    0    0    0]\n",
      " [   0   13    1    0   10    0    0  980    0    8]\n",
      " [   9   21    6   27    9   27    7    1  867   19]\n",
      " [   5   10    3    8   10    3    2   16    2  904]]\n"
     ]
    }
   ],
   "source": [
    "clf = neighbors.KNeighborsClassifier(n_neighbors=5)\n",
    "clf.fit(X_train, y_train)\n",
    "expected = y_test\n",
    "predicted = clf.predict(X_test)\n",
    "print(\"Classification report for kNN classifier %s:\\n%s\\n\"\n",
    "     % (clf, metrics.classification_report(expected, predicted)))\n",
    "print(\"Confusion matrix:\\n%s\" % metrics.confusion_matrix(expected, predicted))"
   ]
  },
  {
   "cell_type": "code",
   "execution_count": 34,
   "metadata": {},
   "outputs": [
    {
     "name": "stdout",
     "output_type": "stream",
     "text": [
      "Accuracy is: 95.23\n"
     ]
    }
   ],
   "source": [
    "print(\"Accuracy is:\",round(metrics.accuracy_score(expected,predicted)*100,2))"
   ]
  },
  {
   "cell_type": "code",
   "execution_count": 35,
   "metadata": {},
   "outputs": [
    {
     "name": "stdout",
     "output_type": "stream",
     "text": [
      "Test error is: 4.77\n"
     ]
    }
   ],
   "source": [
    "print(\"Test error is:\",100-round(metrics.accuracy_score(expected,predicted)*100,2))"
   ]
  },
  {
   "cell_type": "code",
   "execution_count": 36,
   "metadata": {},
   "outputs": [
    {
     "name": "stdout",
     "output_type": "stream",
     "text": [
      "Confusion matrix:\n",
      "[[ 949    1    3    0    0    0    9    0    0    0]\n",
      " [   0 1168    5    0    4    0    0    0    0    0]\n",
      " [  11   18  935    2    2    2    4   17    2    1]\n",
      " [   2    5    8  950    1   16    2    9   10    4]\n",
      " [   1   15    2    0  949    1    1    1    0   33]\n",
      " [   7    6    0   17    0  858   16    2    1    5]\n",
      " [   7    1    0    0    2    4  963    0    0    0]\n",
      " [   0   13    1    0   10    0    0  980    0    8]\n",
      " [   9   21    6   27    9   27    7    1  867   19]\n",
      " [   5   10    3    8   10    3    2   16    2  904]]\n"
     ]
    }
   ],
   "source": [
    "print(\"Confusion matrix:\\n%s\" % metrics.confusion_matrix(expected, predicted))"
   ]
  }
 ],
 "metadata": {
  "kernelspec": {
   "display_name": "Python 3",
   "language": "python",
   "name": "python3"
  },
  "language_info": {
   "codemirror_mode": {
    "name": "ipython",
    "version": 3
   },
   "file_extension": ".py",
   "mimetype": "text/x-python",
   "name": "python",
   "nbconvert_exporter": "python",
   "pygments_lexer": "ipython3",
   "version": "3.5.4"
  }
 },
 "nbformat": 4,
 "nbformat_minor": 2
}
