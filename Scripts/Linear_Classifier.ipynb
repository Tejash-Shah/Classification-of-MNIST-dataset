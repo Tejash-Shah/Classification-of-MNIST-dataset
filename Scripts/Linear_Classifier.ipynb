{
 "cells": [
  {
   "cell_type": "markdown",
   "metadata": {},
   "source": [
    "# Linear Classifier \n"
   ]
  },
  {
   "cell_type": "code",
   "execution_count": 1,
   "metadata": {},
   "outputs": [
    {
     "name": "stderr",
     "output_type": "stream",
     "text": [
      "C:\\Users\\saish\\Anaconda2\\envs\\tf\\lib\\site-packages\\sklearn\\cross_validation.py:41: DeprecationWarning: This module was deprecated in version 0.18 in favor of the model_selection module into which all the refactored classes and functions are moved. Also note that the interface of the new CV iterators are different from that of this module. This module will be removed in 0.20.\n",
      "  \"This module will be removed in 0.20.\", DeprecationWarning)\n"
     ]
    }
   ],
   "source": [
    "from sklearn.datasets import load_digits\n",
    "from matplotlib import pyplot as plt\n",
    "from sklearn.datasets import fetch_mldata\n",
    "from sklearn.cross_validation import train_test_split\n",
    "from tensorflow.contrib import learn\n",
    "import tensorflow as tf\n",
    "import numpy as np\n",
    "from sklearn.model_selection import cross_val_score\n",
    "from sklearn.model_selection import ShuffleSplit\n",
    "from sklearn import metrics\n",
    "from sklearn.utils import shuffle\n",
    "import time"
   ]
  },
  {
   "cell_type": "code",
   "execution_count": 2,
   "metadata": {},
   "outputs": [
    {
     "name": "stdout",
     "output_type": "stream",
     "text": [
      "Extracting MNIST-data\\train-images-idx3-ubyte.gz\n",
      "Extracting MNIST-data\\train-labels-idx1-ubyte.gz\n",
      "Extracting MNIST-data\\t10k-images-idx3-ubyte.gz\n",
      "Extracting MNIST-data\\t10k-labels-idx1-ubyte.gz\n"
     ]
    }
   ],
   "source": [
    "m_data = tf.contrib.learn.datasets.mnist.load_mnist()"
   ]
  },
  {
   "cell_type": "code",
   "execution_count": 3,
   "metadata": {
    "collapsed": true
   },
   "outputs": [],
   "source": [
    "train_set = m_data.train\n",
    "train_images = train_set.images\n",
    "train_labels = train_set.labels.astype(np.int32)"
   ]
  },
  {
   "cell_type": "code",
   "execution_count": 4,
   "metadata": {
    "collapsed": true
   },
   "outputs": [],
   "source": [
    "val_set = m_data.validation\n",
    "val_images = val_set.images\n",
    "val_labels = val_set.labels.astype(np.int32)"
   ]
  },
  {
   "cell_type": "code",
   "execution_count": 5,
   "metadata": {
    "collapsed": true
   },
   "outputs": [],
   "source": [
    "test_set = m_data.test\n",
    "test_images = test_set.images\n",
    "test_labels = test_set.labels.astype(np.int32)"
   ]
  },
  {
   "cell_type": "code",
   "execution_count": 6,
   "metadata": {},
   "outputs": [
    {
     "name": "stdout",
     "output_type": "stream",
     "text": [
      "INFO:tensorflow:Using default config.\n",
      "WARNING:tensorflow:Using temporary folder as model directory: C:\\Users\\saish\\AppData\\Local\\Temp\\tmp403r77ws\n",
      "INFO:tensorflow:Using config: {'_num_worker_replicas': 0, '_task_type': None, '_save_checkpoints_secs': 600, '_save_checkpoints_steps': None, '_keep_checkpoint_max': 5, '_keep_checkpoint_every_n_hours': 10000, '_save_summary_steps': 100, '_is_chief': True, '_tf_random_seed': None, '_num_ps_replicas': 0, '_model_dir': 'C:\\\\Users\\\\saish\\\\AppData\\\\Local\\\\Temp\\\\tmp403r77ws', '_tf_config': gpu_options {\n",
      "  per_process_gpu_memory_fraction: 1\n",
      "}\n",
      ", '_master': '', '_evaluation_master': '', '_task_id': 0, '_cluster_spec': <tensorflow.python.training.server_lib.ClusterSpec object at 0x00000257412E4940>, '_environment': 'local', '_session_config': None}\n"
     ]
    }
   ],
   "source": [
    "image_set = tf.contrib.layers.real_valued_column('', dimension=784)\n",
    "cls = learn.LinearClassifier(feature_columns=[image_set], n_classes=10)"
   ]
  },
  {
   "cell_type": "code",
   "execution_count": 7,
   "metadata": {
    "collapsed": true
   },
   "outputs": [],
   "source": [
    "start = int(round(time.time() * 1000))"
   ]
  },
  {
   "cell_type": "code",
   "execution_count": 8,
   "metadata": {},
   "outputs": [
    {
     "name": "stdout",
     "output_type": "stream",
     "text": [
      "WARNING:tensorflow:From <ipython-input-8-1e1c1979661b>:1: calling BaseEstimator.fit (from tensorflow.contrib.learn.python.learn.estimators.estimator) with y is deprecated and will be removed after 2016-12-01.\n",
      "Instructions for updating:\n",
      "Estimator is decoupled from Scikit Learn interface by moving into\n",
      "separate class SKCompat. Arguments x, y and batch_size are only\n",
      "available in the SKCompat class, Estimator will only accept input_fn.\n",
      "Example conversion:\n",
      "  est = Estimator(...) -> est = SKCompat(Estimator(...))\n",
      "WARNING:tensorflow:From <ipython-input-8-1e1c1979661b>:1: calling BaseEstimator.fit (from tensorflow.contrib.learn.python.learn.estimators.estimator) with x is deprecated and will be removed after 2016-12-01.\n",
      "Instructions for updating:\n",
      "Estimator is decoupled from Scikit Learn interface by moving into\n",
      "separate class SKCompat. Arguments x, y and batch_size are only\n",
      "available in the SKCompat class, Estimator will only accept input_fn.\n",
      "Example conversion:\n",
      "  est = Estimator(...) -> est = SKCompat(Estimator(...))\n",
      "WARNING:tensorflow:From C:\\Users\\saish\\Anaconda2\\envs\\tf\\lib\\site-packages\\tensorflow\\contrib\\learn\\python\\learn\\estimators\\head.py:625: scalar_summary (from tensorflow.python.ops.logging_ops) is deprecated and will be removed after 2016-11-30.\n",
      "Instructions for updating:\n",
      "Please switch to tf.summary.scalar. Note that tf.summary.scalar uses the node name instead of the tag. This means that TensorFlow will automatically de-duplicate summary names based on the scope they are created in. Also, passing a tensor or list of tags to a scalar summary op is no longer supported.\n",
      "INFO:tensorflow:Create CheckpointSaverHook.\n",
      "INFO:tensorflow:Saving checkpoints for 1 into C:\\Users\\saish\\AppData\\Local\\Temp\\tmp403r77ws\\model.ckpt.\n",
      "INFO:tensorflow:loss = 2.30271, step = 1\n",
      "INFO:tensorflow:global_step/sec: 2.64628\n",
      "INFO:tensorflow:loss = 0.378072, step = 101 (37.791 sec)\n",
      "INFO:tensorflow:global_step/sec: 3.19708\n",
      "INFO:tensorflow:loss = 0.336968, step = 201 (31.278 sec)\n",
      "INFO:tensorflow:global_step/sec: 3.73702\n",
      "INFO:tensorflow:loss = 0.318466, step = 301 (26.759 sec)\n",
      "INFO:tensorflow:global_step/sec: 3.7159\n",
      "INFO:tensorflow:loss = 0.30725, step = 401 (26.951 sec)\n",
      "INFO:tensorflow:global_step/sec: 3.53944\n",
      "INFO:tensorflow:loss = 0.299478, step = 501 (28.214 sec)\n",
      "INFO:tensorflow:global_step/sec: 3.6932\n",
      "INFO:tensorflow:loss = 0.293658, step = 601 (27.076 sec)\n",
      "INFO:tensorflow:global_step/sec: 3.62929\n",
      "INFO:tensorflow:loss = 0.28907, step = 701 (27.554 sec)\n",
      "INFO:tensorflow:global_step/sec: 3.77007\n",
      "INFO:tensorflow:loss = 0.28532, step = 801 (26.525 sec)\n",
      "INFO:tensorflow:global_step/sec: 3.78053\n",
      "INFO:tensorflow:loss = 0.282173, step = 901 (26.607 sec)\n",
      "INFO:tensorflow:global_step/sec: 3.50378\n",
      "INFO:tensorflow:loss = 0.279476, step = 1001 (28.389 sec)\n",
      "INFO:tensorflow:global_step/sec: 3.51161\n",
      "INFO:tensorflow:loss = 0.277127, step = 1101 (28.473 sec)\n",
      "INFO:tensorflow:global_step/sec: 3.74129\n",
      "INFO:tensorflow:loss = 0.275054, step = 1201 (26.729 sec)\n",
      "INFO:tensorflow:global_step/sec: 3.75804\n",
      "INFO:tensorflow:loss = 0.273204, step = 1301 (26.610 sec)\n",
      "INFO:tensorflow:global_step/sec: 3.77247\n",
      "INFO:tensorflow:loss = 0.271537, step = 1401 (26.531 sec)\n",
      "INFO:tensorflow:global_step/sec: 3.71137\n",
      "INFO:tensorflow:loss = 0.270025, step = 1501 (26.921 sec)\n",
      "INFO:tensorflow:global_step/sec: 3.77178\n",
      "INFO:tensorflow:loss = 0.268642, step = 1601 (26.513 sec)\n",
      "INFO:tensorflow:global_step/sec: 3.77127\n",
      "INFO:tensorflow:loss = 0.267371, step = 1701 (26.516 sec)\n",
      "INFO:tensorflow:global_step/sec: 3.76521\n",
      "INFO:tensorflow:loss = 0.266196, step = 1801 (26.558 sec)\n",
      "INFO:tensorflow:global_step/sec: 3.74603\n",
      "INFO:tensorflow:loss = 0.265104, step = 1901 (26.814 sec)\n",
      "INFO:tensorflow:Saving checkpoints for 2000 into C:\\Users\\saish\\AppData\\Local\\Temp\\tmp403r77ws\\model.ckpt.\n",
      "INFO:tensorflow:Loss for final step: 0.264096.\n"
     ]
    },
    {
     "data": {
      "text/plain": [
       "LinearClassifier(params={'gradient_clip_norm': None, 'joint_weights': False, 'feature_columns': [_RealValuedColumn(column_name='', dimension=784, default_value=None, dtype=tf.float32, normalizer=None)], 'optimizer': None, 'head': <tensorflow.contrib.learn.python.learn.estimators.head._MultiClassHead object at 0x00000257412E4668>})"
      ]
     },
     "execution_count": 8,
     "metadata": {},
     "output_type": "execute_result"
    }
   ],
   "source": [
    "cls.fit(train_images, train_labels , steps=2000)"
   ]
  },
  {
   "cell_type": "code",
   "execution_count": 9,
   "metadata": {},
   "outputs": [
    {
     "name": "stdout",
     "output_type": "stream",
     "text": [
      "--NN fitting finished in  562256 ms--------------\n"
     ]
    }
   ],
   "source": [
    "end = int(round(time.time() * 1000))\n",
    "print(\"--NN fitting finished in \", (end-start), \"ms--------------\")"
   ]
  },
  {
   "cell_type": "markdown",
   "metadata": {},
   "source": [
    "# Validation set prediction"
   ]
  },
  {
   "cell_type": "code",
   "execution_count": 10,
   "metadata": {},
   "outputs": [
    {
     "name": "stdout",
     "output_type": "stream",
     "text": [
      "WARNING:tensorflow:From C:\\Users\\saish\\Anaconda2\\envs\\tf\\lib\\site-packages\\tensorflow\\python\\util\\deprecation.py:347: calling LinearClassifier.predict (from tensorflow.contrib.learn.python.learn.estimators.linear) with outputs=None is deprecated and will be removed after 2017-03-01.\n",
      "Instructions for updating:\n",
      "Please switch to predict_classes, or set `outputs` argument.\n",
      "WARNING:tensorflow:From C:\\Users\\saish\\Anaconda2\\envs\\tf\\lib\\site-packages\\tensorflow\\contrib\\learn\\python\\learn\\estimators\\linear.py:565: calling BaseEstimator.predict (from tensorflow.contrib.learn.python.learn.estimators.estimator) with x is deprecated and will be removed after 2016-12-01.\n",
      "Instructions for updating:\n",
      "Estimator is decoupled from Scikit Learn interface by moving into\n",
      "separate class SKCompat. Arguments x, y and batch_size are only\n",
      "available in the SKCompat class, Estimator will only accept input_fn.\n",
      "Example conversion:\n",
      "  est = Estimator(...) -> est = SKCompat(Estimator(...))\n",
      "INFO:tensorflow:Restoring parameters from C:\\Users\\saish\\AppData\\Local\\Temp\\tmp403r77ws\\model.ckpt-2000\n",
      "Test Accuracy 0.927\n",
      "Test Recall 0.927\n",
      "Test Precision 0.926777337771\n",
      "F1 0.92683715742\n",
      "Confusion Matrix [[464   0   0   2   0   6   3   1   2   1]\n",
      " [  0 550   3   1   0   4   0   0   5   0]\n",
      " [  5   8 435   7   5   1   6   4  15   2]\n",
      " [  0   3  15 441   0  19   1   6   3   5]\n",
      " [  2   2   7   1 504   0   6   1   4   8]\n",
      " [  2   2   3  21   5 379   7   0  12   3]\n",
      " [  3   2   0   0   2   5 483   0   5   1]\n",
      " [  3   2   4   2   5   0   0 518   1  15]\n",
      " [  2   8   8  10   3  12   4   1 410   4]\n",
      " [  4   1   0   4   9   5   0  17   4 451]]\n"
     ]
    }
   ],
   "source": [
    "val_pred = list(cls.predict(val_images, as_iterable=True))\n",
    "\n",
    "\n",
    "score = metrics.accuracy_score(val_labels, val_pred)\n",
    "print ('Test Accuracy', score)\n",
    "Recall = metrics.recall_score(val_labels, val_pred, average='weighted')\n",
    "print('Test Recall', Recall)\n",
    "Precision = metrics.precision_score(val_labels, val_pred, average='weighted')\n",
    "print('Test Precision', Precision)\n",
    "F1 = metrics.f1_score(val_labels, val_pred, average='weighted')\n",
    "print('F1', F1)\n",
    "matrix = metrics.confusion_matrix(val_labels, val_pred)\n",
    "print('Confusion Matrix', matrix)"
   ]
  },
  {
   "cell_type": "code",
   "execution_count": 11,
   "metadata": {},
   "outputs": [
    {
     "name": "stdout",
     "output_type": "stream",
     "text": [
      "Classification report for Linear classifier LinearClassifier(params={'gradient_clip_norm': None, 'joint_weights': False, 'feature_columns': [_RealValuedColumn(column_name='', dimension=784, default_value=None, dtype=tf.float32, normalizer=None)], 'optimizer': None, 'head': <tensorflow.contrib.learn.python.learn.estimators.head._MultiClassHead object at 0x00000257412E4668>}):\n",
      "             precision    recall  f1-score   support\n",
      "\n",
      "          0       0.96      0.97      0.96       479\n",
      "          1       0.95      0.98      0.96       563\n",
      "          2       0.92      0.89      0.90       488\n",
      "          3       0.90      0.89      0.90       493\n",
      "          4       0.95      0.94      0.94       535\n",
      "          5       0.88      0.87      0.88       434\n",
      "          6       0.95      0.96      0.96       501\n",
      "          7       0.95      0.94      0.94       550\n",
      "          8       0.89      0.89      0.89       462\n",
      "          9       0.92      0.91      0.92       495\n",
      "\n",
      "avg / total       0.93      0.93      0.93      5000\n",
      "\n",
      "\n"
     ]
    }
   ],
   "source": [
    "print(\"Classification report for Linear classifier %s:\\n%s\\n\"\n",
    "     % (cls, metrics.classification_report(val_labels, val_pred)))"
   ]
  },
  {
   "cell_type": "markdown",
   "metadata": {},
   "source": [
    "# Model Testing"
   ]
  },
  {
   "cell_type": "code",
   "execution_count": 12,
   "metadata": {},
   "outputs": [
    {
     "name": "stdout",
     "output_type": "stream",
     "text": [
      "WARNING:tensorflow:From C:\\Users\\saish\\Anaconda2\\envs\\tf\\lib\\site-packages\\tensorflow\\python\\util\\deprecation.py:347: calling LinearClassifier.predict (from tensorflow.contrib.learn.python.learn.estimators.linear) with outputs=None is deprecated and will be removed after 2017-03-01.\n",
      "Instructions for updating:\n",
      "Please switch to predict_classes, or set `outputs` argument.\n",
      "WARNING:tensorflow:From C:\\Users\\saish\\Anaconda2\\envs\\tf\\lib\\site-packages\\tensorflow\\contrib\\learn\\python\\learn\\estimators\\linear.py:565: calling BaseEstimator.predict (from tensorflow.contrib.learn.python.learn.estimators.estimator) with x is deprecated and will be removed after 2016-12-01.\n",
      "Instructions for updating:\n",
      "Estimator is decoupled from Scikit Learn interface by moving into\n",
      "separate class SKCompat. Arguments x, y and batch_size are only\n",
      "available in the SKCompat class, Estimator will only accept input_fn.\n",
      "Example conversion:\n",
      "  est = Estimator(...) -> est = SKCompat(Estimator(...))\n",
      "INFO:tensorflow:Restoring parameters from C:\\Users\\saish\\AppData\\Local\\Temp\\tmp403r77ws\\model.ckpt-2000\n",
      "Test Accuracy 0.9233\n",
      "Test Error 7.67\n",
      "Test Recall 0.9233\n",
      "Test Precision 0.923191064542\n",
      "F1 0.923135419618\n",
      "Confusion Matrix [[ 960    0    2    2    0    5    8    2    1    0]\n",
      " [   0 1110    2    2    0    1    4    2   14    0]\n",
      " [   7    9  920   14   10    4   13   11   37    7]\n",
      " [   3    0   19  919    0   26    1   12   22    8]\n",
      " [   1    2    5    1  915    0   12    3    9   34]\n",
      " [  10    2    4   31    9  776   17    7   29    7]\n",
      " [  11    3    5    2    9   13  909    3    3    0]\n",
      " [   1    6   22    9    8    1    0  947    3   31]\n",
      " [   7    8    7   23    9   27   10   11  865    7]\n",
      " [  11    7    2    8   28    7    0   27    7  912]]\n"
     ]
    }
   ],
   "source": [
    "y = list(cls.predict(test_images, as_iterable=True))\n",
    "\n",
    "score = metrics.accuracy_score(test_labels, y)\n",
    "print ('Test Accuracy', score)\n",
    "Error = 100-round(metrics.accuracy_score(test_labels, y)*100,2)\n",
    "print('Test Error', Error)\n",
    "Recall = metrics.recall_score(test_labels, y, average='weighted')\n",
    "print('Test Recall', Recall)\n",
    "Precision = metrics.precision_score(test_labels, y, average='weighted')\n",
    "print('Test Precision', Precision)\n",
    "F1 = metrics.f1_score(test_labels, y, average='weighted')\n",
    "print('F1', F1)\n",
    "matrix = metrics.confusion_matrix(test_labels, y)\n",
    "print('Confusion Matrix', matrix)"
   ]
  },
  {
   "cell_type": "code",
   "execution_count": 13,
   "metadata": {},
   "outputs": [
    {
     "name": "stdout",
     "output_type": "stream",
     "text": [
      "Classification report for Linear classifier LinearClassifier(params={'gradient_clip_norm': None, 'joint_weights': False, 'feature_columns': [_RealValuedColumn(column_name='', dimension=784, default_value=None, dtype=tf.float32, normalizer=None)], 'optimizer': None, 'head': <tensorflow.contrib.learn.python.learn.estimators.head._MultiClassHead object at 0x00000257412E4668>}):\n",
      "             precision    recall  f1-score   support\n",
      "\n",
      "          0       0.95      0.98      0.96       980\n",
      "          1       0.97      0.98      0.97      1135\n",
      "          2       0.93      0.89      0.91      1032\n",
      "          3       0.91      0.91      0.91      1010\n",
      "          4       0.93      0.93      0.93       982\n",
      "          5       0.90      0.87      0.89       892\n",
      "          6       0.93      0.95      0.94       958\n",
      "          7       0.92      0.92      0.92      1028\n",
      "          8       0.87      0.89      0.88       974\n",
      "          9       0.91      0.90      0.91      1009\n",
      "\n",
      "avg / total       0.92      0.92      0.92     10000\n",
      "\n",
      "\n"
     ]
    }
   ],
   "source": [
    "print(\"Classification report for Linear classifier %s:\\n%s\\n\"\n",
    "     % (cls, metrics.classification_report(test_labels, y)))"
   ]
  },
  {
   "cell_type": "code",
   "execution_count": null,
   "metadata": {
    "collapsed": true
   },
   "outputs": [],
   "source": []
  }
 ],
 "metadata": {
  "kernelspec": {
   "display_name": "Python 3",
   "language": "python",
   "name": "python3"
  },
  "language_info": {
   "codemirror_mode": {
    "name": "ipython",
    "version": 3
   },
   "file_extension": ".py",
   "mimetype": "text/x-python",
   "name": "python",
   "nbconvert_exporter": "python",
   "pygments_lexer": "ipython3",
   "version": "3.5.4"
  }
 },
 "nbformat": 4,
 "nbformat_minor": 2
}
