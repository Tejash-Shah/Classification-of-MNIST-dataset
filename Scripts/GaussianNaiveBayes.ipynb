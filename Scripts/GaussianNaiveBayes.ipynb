{
 "cells": [
  {
   "cell_type": "code",
   "execution_count": 15,
   "metadata": {},
   "outputs": [],
   "source": [
    "import numpy as np\n",
    "import tensorflow as tf\n",
    "from sklearn.datasets import fetch_mldata\n",
    "import matplotlib.pyplot as plt\n",
    "from sklearn import datasets, svm, metrics\n",
    "from sklearn import cross_validation\n",
    "#from sklearn.neural_network import MLPClassifier\n",
    "from sklearn import tree\n",
    "import time \n",
    "from sklearn import neighbors\n",
    "from sklearn.utils import shuffle\n",
    "tf.logging.set_verbosity(tf.logging.ERROR)\n",
    "from sklearn.naive_bayes import GaussianNB"
   ]
  },
  {
   "cell_type": "code",
   "execution_count": 16,
   "metadata": {
    "collapsed": true
   },
   "outputs": [],
   "source": [
    "mnist = fetch_mldata(\"MNIST original\")"
   ]
  },
  {
   "cell_type": "code",
   "execution_count": 17,
   "metadata": {},
   "outputs": [
    {
     "name": "stdout",
     "output_type": "stream",
     "text": [
      "(70000, 784)\n"
     ]
    }
   ],
   "source": [
    "print(mnist.data.shape)"
   ]
  },
  {
   "cell_type": "code",
   "execution_count": 18,
   "metadata": {},
   "outputs": [
    {
     "name": "stdout",
     "output_type": "stream",
     "text": [
      "[ 0.  1.  2.  3.  4.  5.  6.  7.  8.  9.]\n"
     ]
    }
   ],
   "source": [
    "print(np.unique(mnist.target))"
   ]
  },
  {
   "cell_type": "code",
   "execution_count": 19,
   "metadata": {
    "collapsed": true
   },
   "outputs": [],
   "source": [
    "X, y = np.float32(mnist.data[:70000]), np.float32(mnist.target[:70000])\n",
    "X, y = shuffle(X,y)"
   ]
  },
  {
   "cell_type": "code",
   "execution_count": 20,
   "metadata": {
    "collapsed": true
   },
   "outputs": [],
   "source": [
    "#X, y = np.float32(mnist.data[:70000]), np.float32(mnist.target[:70000])\n",
    "X_train, y_train = np.float32(X[:15000]), np.float32(y[:15000])\n",
    "X_test, y_test = np.float32(X[60000:]), np.float32(y[60000:])"
   ]
  },
  {
   "cell_type": "code",
   "execution_count": 21,
   "metadata": {
    "collapsed": true
   },
   "outputs": [],
   "source": [
    "start = int(round(time.time() * 1000))"
   ]
  },
  {
   "cell_type": "code",
   "execution_count": 22,
   "metadata": {},
   "outputs": [
    {
     "name": "stdout",
     "output_type": "stream",
     "text": [
      "--NN fitting finished in  263 ms--------------\n"
     ]
    }
   ],
   "source": [
    "GB = GaussianNB()\n",
    "GB.fit(X_train,y_train)\n",
    "end = int(round(time.time() * 1000))\n",
    "print(\"--NN fitting finished in \", (end-start), \"ms--------------\")\n",
    "predicted=GB.predict(X_test)\n",
    "expected=y_test"
   ]
  },
  {
   "cell_type": "code",
   "execution_count": 23,
   "metadata": {},
   "outputs": [
    {
     "name": "stdout",
     "output_type": "stream",
     "text": [
      "[ 0.58694204  0.58061292  0.56266667  0.56133333  0.59445928]\n"
     ]
    }
   ],
   "source": [
    "print(cross_validation.cross_val_score(GB, X_train,y_train, cv=5))"
   ]
  },
  {
   "cell_type": "code",
   "execution_count": 24,
   "metadata": {},
   "outputs": [
    {
     "name": "stdout",
     "output_type": "stream",
     "text": [
      "Classification report for kNN classifier GaussianNB(priors=None):\n",
      "             precision    recall  f1-score   support\n",
      "\n",
      "        0.0       0.67      0.94      0.78       977\n",
      "        1.0       0.70      0.95      0.81      1180\n",
      "        2.0       0.84      0.25      0.39       980\n",
      "        3.0       0.69      0.67      0.68       987\n",
      "        4.0       0.88      0.17      0.28       969\n",
      "        5.0       0.59      0.05      0.10       886\n",
      "        6.0       0.66      0.93      0.77      1031\n",
      "        7.0       0.89      0.30      0.45      1066\n",
      "        8.0       0.37      0.51      0.43       976\n",
      "        9.0       0.38      0.93      0.54       948\n",
      "\n",
      "avg / total       0.67      0.58      0.53     10000\n",
      "\n",
      "\n",
      "Confusion matrix:\n",
      "[[ 916    0    5    2    1    1   23    1   19    9]\n",
      " [   0 1126    2   10    1    4   11    1   13   12]\n",
      " [ 119   54  249  153    3    1  228    3  156   14]\n",
      " [  63   81    9  659    0    0   34    9   62   70]\n",
      " [  42   20    5   12  161   10  110    7  130  472]\n",
      " [ 167   36    3   70    5   48   62    3  422   70]\n",
      " [  10   33   10    0    0    6  962    1    8    1]\n",
      " [  14   17    5   25    9    3    1  325   24  643]\n",
      " [  21  221    5   20    0    7   35    3  501  163]\n",
      " [   7   18    3    4    3    1    1   13   12  886]]\n"
     ]
    }
   ],
   "source": [
    "print(\"Classification report for kNN classifier %s:\\n%s\\n\"\n",
    "     % (GB, metrics.classification_report(expected, predicted)))\n",
    "print(\"Confusion matrix:\\n%s\" % metrics.confusion_matrix(expected, predicted))"
   ]
  },
  {
   "cell_type": "code",
   "execution_count": 25,
   "metadata": {},
   "outputs": [
    {
     "name": "stdout",
     "output_type": "stream",
     "text": [
      "Accuracy is: 58.33\n"
     ]
    }
   ],
   "source": [
    "print(\"Accuracy is:\",round(metrics.accuracy_score(expected,predicted)*100,2))"
   ]
  },
  {
   "cell_type": "code",
   "execution_count": 26,
   "metadata": {},
   "outputs": [
    {
     "name": "stdout",
     "output_type": "stream",
     "text": [
      "Test error is: 41.67\n"
     ]
    }
   ],
   "source": [
    "print(\"Test error is:\",100-round(metrics.accuracy_score(expected,predicted)*100,2))"
   ]
  },
  {
   "cell_type": "code",
   "execution_count": 27,
   "metadata": {},
   "outputs": [
    {
     "name": "stdout",
     "output_type": "stream",
     "text": [
      "Confusion matrix:\n",
      "[[ 916    0    5    2    1    1   23    1   19    9]\n",
      " [   0 1126    2   10    1    4   11    1   13   12]\n",
      " [ 119   54  249  153    3    1  228    3  156   14]\n",
      " [  63   81    9  659    0    0   34    9   62   70]\n",
      " [  42   20    5   12  161   10  110    7  130  472]\n",
      " [ 167   36    3   70    5   48   62    3  422   70]\n",
      " [  10   33   10    0    0    6  962    1    8    1]\n",
      " [  14   17    5   25    9    3    1  325   24  643]\n",
      " [  21  221    5   20    0    7   35    3  501  163]\n",
      " [   7   18    3    4    3    1    1   13   12  886]]\n"
     ]
    }
   ],
   "source": [
    "print(\"Confusion matrix:\\n%s\" % metrics.confusion_matrix(expected, predicted))"
   ]
  }
 ],
 "metadata": {
  "kernelspec": {
   "display_name": "Python 3",
   "language": "python",
   "name": "python3"
  },
  "language_info": {
   "codemirror_mode": {
    "name": "ipython",
    "version": 3
   },
   "file_extension": ".py",
   "mimetype": "text/x-python",
   "name": "python",
   "nbconvert_exporter": "python",
   "pygments_lexer": "ipython3",
   "version": "3.5.4"
  }
 },
 "nbformat": 4,
 "nbformat_minor": 2
}
