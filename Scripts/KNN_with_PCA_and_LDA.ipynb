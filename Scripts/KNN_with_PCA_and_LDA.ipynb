{
 "cells": [
  {
   "cell_type": "code",
   "execution_count": 60,
   "metadata": {},
   "outputs": [],
   "source": [
    "import numpy as np\n",
    "from sklearn.decomposition import PCA\n",
    "from sklearn.datasets import fetch_mldata\n",
    "import matplotlib.pyplot as plt\n",
    "from sklearn import datasets, svm, metrics\n",
    "from sklearn import decomposition\n",
    "from sklearn import cross_validation\n",
    "import time # computation time benchmark\n",
    "from sklearn import neighbors\n",
    "from sklearn.neighbors.nearest_centroid import NearestCentroid\n",
    "from sklearn.decomposition import  KernelPCA\n",
    "from sklearn.utils import shuffle\n",
    "from sklearn.neighbors.nearest_centroid import NearestCentroid\n",
    "from sklearn.cross_validation import train_test_split\n",
    "from sklearn.discriminant_analysis import LinearDiscriminantAnalysis\n",
    "from sklearn.model_selection import ShuffleSplit\n",
    "import time"
   ]
  },
  {
   "cell_type": "code",
   "execution_count": 61,
   "metadata": {
    "collapsed": true
   },
   "outputs": [],
   "source": [
    "m_data = fetch_mldata(\"MNIST original\")"
   ]
  },
  {
   "cell_type": "code",
   "execution_count": 62,
   "metadata": {},
   "outputs": [
    {
     "name": "stdout",
     "output_type": "stream",
     "text": [
      "(70000, 784)\n"
     ]
    }
   ],
   "source": [
    "print(m_data.data.shape) #(70000, 784)"
   ]
  },
  {
   "cell_type": "code",
   "execution_count": 63,
   "metadata": {
    "collapsed": true
   },
   "outputs": [],
   "source": [
    "#Normalization \n",
    "x = np.float32(m_data.data[:70000])/255."
   ]
  },
  {
   "cell_type": "code",
   "execution_count": 64,
   "metadata": {
    "collapsed": true
   },
   "outputs": [],
   "source": [
    "y = np.float32(m_data.target[:70000])"
   ]
  },
  {
   "cell_type": "code",
   "execution_count": 65,
   "metadata": {
    "collapsed": true
   },
   "outputs": [],
   "source": [
    "x_n, y_n = shuffle(x,y)"
   ]
  },
  {
   "cell_type": "code",
   "execution_count": 66,
   "metadata": {},
   "outputs": [
    {
     "data": {
      "text/plain": [
       "(70000, 784)"
      ]
     },
     "execution_count": 66,
     "metadata": {},
     "output_type": "execute_result"
    }
   ],
   "source": [
    "x_n.shape"
   ]
  },
  {
   "cell_type": "code",
   "execution_count": 67,
   "metadata": {},
   "outputs": [
    {
     "data": {
      "text/plain": [
       "(70000,)"
      ]
     },
     "execution_count": 67,
     "metadata": {},
     "output_type": "execute_result"
    }
   ],
   "source": [
    "y_n.shape"
   ]
  },
  {
   "cell_type": "code",
   "execution_count": 68,
   "metadata": {
    "collapsed": true
   },
   "outputs": [],
   "source": [
    "tr1_x, ts1_x, tr1_y, ts1_y = train_test_split(x_n, y_n, test_size = 0.2, random_state = 42)"
   ]
  },
  {
   "cell_type": "code",
   "execution_count": 69,
   "metadata": {},
   "outputs": [
    {
     "name": "stdout",
     "output_type": "stream",
     "text": [
      "train feature (56000, 784)\n",
      "test feature (14000, 784)\n",
      "train prediction (56000,)\n",
      "test prediction (14000,)\n"
     ]
    }
   ],
   "source": [
    "print('train feature', tr1_x.shape)\n",
    "print('test feature', ts1_x.shape)\n",
    "print('train prediction', tr1_y.shape)\n",
    "print('test prediction', ts1_y.shape)"
   ]
  },
  {
   "cell_type": "code",
   "execution_count": 70,
   "metadata": {
    "collapsed": true
   },
   "outputs": [],
   "source": [
    "tr_x = tr1_x[:46000]\n",
    "tr_y = tr1_y[:46000]\n",
    "val_x = tr1_x[46000:]\n",
    "val_y = tr1_y[46000:]"
   ]
  },
  {
   "cell_type": "code",
   "execution_count": 71,
   "metadata": {},
   "outputs": [
    {
     "name": "stdout",
     "output_type": "stream",
     "text": [
      "train feature (46000, 784)\n",
      "train label size (46000,)\n",
      "val test feature size (10000, 784)\n",
      "val test label size (10000,)\n"
     ]
    }
   ],
   "source": [
    "print('train feature', tr_x.shape)\n",
    "print('train label size', tr_y.shape)\n",
    "print('val test feature size', val_x.shape)\n",
    "print('val test label size', val_y.shape)"
   ]
  },
  {
   "cell_type": "markdown",
   "metadata": {},
   "source": [
    "# Dimensionality Reduction PCA and LDA"
   ]
  },
  {
   "cell_type": "code",
   "execution_count": 72,
   "metadata": {},
   "outputs": [
    {
     "name": "stdout",
     "output_type": "stream",
     "text": [
      "Variance covered 1.0\n",
      "train PCA Shape (46000, 700)\n",
      "Val PCA Shape (10000, 700)\n",
      "Test PCA Shape (14000, 700)\n"
     ]
    }
   ],
   "source": [
    "pca = PCA(n_components=700)\n",
    "x_pca = pca.fit_transform(tr_x, tr_y)\n",
    "x_pca_val = pca.transform(val_x)\n",
    "x_pca_ts = pca.transform(ts1_x)\n",
    "print('Variance covered', pca.explained_variance_ratio_.sum())\n",
    "print('train PCA Shape', x_pca.shape)\n",
    "print('Val PCA Shape', x_pca_val.shape)\n",
    "print('Test PCA Shape', x_pca_ts.shape)"
   ]
  },
  {
   "cell_type": "code",
   "execution_count": 73,
   "metadata": {},
   "outputs": [
    {
     "name": "stdout",
     "output_type": "stream",
     "text": [
      "Variance covered 1.0\n",
      "PCA Shape (46000, 9)\n",
      "val PCA Shape (10000, 9)\n",
      "Test PCA Shape (14000, 9)\n"
     ]
    }
   ],
   "source": [
    "lda = LinearDiscriminantAnalysis()\n",
    "x_lda = lda.fit_transform(x_pca, tr_y)\n",
    "x_lda_val = lda.transform(x_pca_val)\n",
    "x_lda_ts = lda.transform(x_pca_ts)\n",
    "print('Variance covered', lda.explained_variance_ratio_.sum())\n",
    "print('PCA Shape', x_lda.shape)\n",
    "print('val PCA Shape', x_lda_val.shape)\n",
    "print('Test PCA Shape', x_lda_ts.shape)"
   ]
  },
  {
   "cell_type": "markdown",
   "metadata": {},
   "source": [
    "# Cross-validation:  Experimenting with k-value"
   ]
  },
  {
   "cell_type": "code",
   "execution_count": 74,
   "metadata": {
    "collapsed": true
   },
   "outputs": [],
   "source": [
    "start = int(round(time.time() * 1000))"
   ]
  },
  {
   "cell_type": "code",
   "execution_count": 75,
   "metadata": {
    "collapsed": true
   },
   "outputs": [],
   "source": [
    "k = np.arange(5,100,10)"
   ]
  },
  {
   "cell_type": "code",
   "execution_count": 76,
   "metadata": {},
   "outputs": [
    {
     "name": "stdout",
     "output_type": "stream",
     "text": [
      "cross validation with k value 5\n",
      "Cross validation [ 0.92189028  0.92111268  0.91836957  0.91887777  0.91833406]\n",
      "Accuracy: 0.9197 (+/- 0.0030)\n",
      "cross validation with k value 15\n",
      "Cross validation [ 0.91939163  0.9207867   0.91434783  0.9184428   0.91811657]\n",
      "Accuracy: 0.9182 (+/- 0.0043)\n",
      "cross validation with k value 25\n",
      "Cross validation [ 0.91754481  0.91828751  0.91413043  0.91528926  0.91474554]\n",
      "Accuracy: 0.9160 (+/- 0.0032)\n",
      "cross validation with k value 35\n",
      "Cross validation [ 0.91374253  0.91665761  0.91293478  0.9131144   0.91170074]\n",
      "Accuracy: 0.9136 (+/- 0.0033)\n",
      "cross validation with k value 45\n",
      "Cross validation [ 0.91146116  0.91535369  0.90923913  0.9131144   0.90985211]\n",
      "Accuracy: 0.9118 (+/- 0.0045)\n",
      "cross validation with k value 55\n",
      "Cross validation [ 0.90983161  0.91350647  0.90717391  0.91180948  0.90876468]\n",
      "Accuracy: 0.9102 (+/- 0.0045)\n",
      "cross validation with k value 65\n",
      "Cross validation [ 0.90983161  0.91220254  0.90684783  0.91039582  0.90800348]\n",
      "Accuracy: 0.9095 (+/- 0.0037)\n",
      "cross validation with k value 75\n",
      "Cross validation [ 0.90852797  0.91144192  0.90543478  0.90832971  0.90571988]\n",
      "Accuracy: 0.9079 (+/- 0.0044)\n",
      "cross validation with k value 85\n",
      "Cross validation [ 0.90885388  0.91089862  0.90423913  0.90724228  0.90387125]\n",
      "Accuracy: 0.9070 (+/- 0.0054)\n",
      "cross validation with k value 95\n",
      "Cross validation [ 0.90689842  0.90992068  0.90347826  0.90658982  0.90256633]\n",
      "Accuracy: 0.9059 (+/- 0.0053)\n"
     ]
    }
   ],
   "source": [
    "acc = []\n",
    "for i in k:\n",
    "    knn = neighbors.KNeighborsClassifier(n_neighbors=i)\n",
    "    knn.fit(x_lda, tr_y)\n",
    "    cv1 = ShuffleSplit(n_splits=5, test_size=0.3, random_state=0)\n",
    "    scores = cross_validation.cross_val_score(knn, x_lda, tr_y, cv=5)\n",
    "    print('cross validation with k value', i)\n",
    "    print ('Cross validation', scores)\n",
    "    acc.append(scores.mean())\n",
    "    print(\"Accuracy: %0.4f (+/- %0.4f)\" % (scores.mean(), scores.std() * 2))"
   ]
  },
  {
   "cell_type": "code",
   "execution_count": 84,
   "metadata": {},
   "outputs": [
    {
     "data": {
      "image/png": "[encoded data removed]",
      "text/plain": [
       "<matplotlib.figure.Figure at 0x2ce8034f5c0>"
      ]
     },
     "metadata": {},
     "output_type": "display_data"
    }
   ],
   "source": [
    "plt.plot(k,acc)\n",
    "plt.xlabel('k-value')\n",
    "plt.ylabel('Accuracy')\n",
    "plt.show()"
   ]
  },
  {
   "cell_type": "code",
   "execution_count": 79,
   "metadata": {},
   "outputs": [
    {
     "name": "stdout",
     "output_type": "stream",
     "text": [
      "--NN fitting finished in  114325 ms--------------\n"
     ]
    }
   ],
   "source": [
    "end = int(round(time.time() * 1000))\n",
    "print(\"--NN fitting finished in \", (end-start), \"ms--------------\")"
   ]
  },
  {
   "cell_type": "markdown",
   "metadata": {},
   "source": [
    "# Validation set score"
   ]
  },
  {
   "cell_type": "code",
   "execution_count": 80,
   "metadata": {},
   "outputs": [
    {
     "name": "stdout",
     "output_type": "stream",
     "text": [
      "Test Accuracy 0.9132\n",
      "Test Recall 0.9132\n",
      "Test Precision 0.91291228156\n",
      "F1 0.912839362244\n",
      "Confusion Matrix [[ 945    0    5    5    0    7    8    2    4    1]\n",
      " [   0 1056    9    0    1    2    1    5    6    0]\n",
      " [  10   12  942   18    5    2   21    4   20    2]\n",
      " [   1    6   18  884    3   39    2   17   21   10]\n",
      " [   0    3    7    1  939    2    6    1    5   39]\n",
      " [  10    7   10   41    5  741   18    6   28    8]\n",
      " [   9    2    7    1   16   21  980    0    3    0]\n",
      " [   6    8    8    4   14    1    0  963    1   38]\n",
      " [   5   43    8   23   12   41    8    2  784   17]\n",
      " [   2    1    9    8   45    3    0   28   10  898]]\n"
     ]
    }
   ],
   "source": [
    "knn = neighbors.KNeighborsClassifier(n_neighbors=15)\n",
    "knn.fit(x_lda, tr_y)\n",
    "pred = knn.predict(x_lda_val)\n",
    "score = metrics.accuracy_score(val_y, pred)\n",
    "print ('Test Accuracy', score)\n",
    "Recall = metrics.recall_score(val_y, pred, average='weighted')\n",
    "print('Test Recall', Recall)\n",
    "Precision = metrics.precision_score(val_y, pred, average='weighted')\n",
    "print('Test Precision', Precision)\n",
    "F1 = metrics.f1_score(val_y, pred, average='weighted')\n",
    "print('F1', F1)\n",
    "matrix = metrics.confusion_matrix(val_y, pred)\n",
    "print('Confusion Matrix', matrix)"
   ]
  },
  {
   "cell_type": "markdown",
   "metadata": {},
   "source": [
    "# TESTING"
   ]
  },
  {
   "cell_type": "code",
   "execution_count": 81,
   "metadata": {
    "collapsed": true
   },
   "outputs": [],
   "source": [
    "knn = neighbors.KNeighborsClassifier(n_neighbors=15)\n",
    "knn.fit(x_lda, tr_y)\n",
    "pred = knn.predict(x_lda_ts)"
   ]
  },
  {
   "cell_type": "code",
   "execution_count": 82,
   "metadata": {},
   "outputs": [
    {
     "name": "stdout",
     "output_type": "stream",
     "text": [
      "Test Accuracy 0.915357142857\n",
      "Test Recall 0.915357142857\n",
      "Test Precision 0.915001678022\n",
      "F1 0.915026874267\n",
      "Confusion Matrix [[1324    0    6    1    3   14    8    2    8    2]\n",
      " [   3 1548   16    1    2    0    1    5   10    3]\n",
      " [  17   15 1260   27   19    7   14    8   25    5]\n",
      " [   4    5   37 1229    1   60    3   23   33   19]\n",
      " [   5    5   10    1 1223    2    7    1   11   53]\n",
      " [  13    6    6   51    8 1071   24   10   50   15]\n",
      " [  10    2    9    0   11   15 1304    0    3    1]\n",
      " [   3   26   19    8   18    4    0 1375    4   35]\n",
      " [  12   45   13   33   12   43   13    5 1174   20]\n",
      " [   7    2    2   14   57    6    1   39    8 1307]]\n"
     ]
    }
   ],
   "source": [
    "score = metrics.accuracy_score(ts1_y, pred)\n",
    "print ('Test Accuracy', score)\n",
    "Recall = metrics.recall_score(ts1_y, pred, average='weighted')\n",
    "print('Test Recall', Recall)\n",
    "Precision = metrics.precision_score(ts1_y, pred, average='weighted')\n",
    "print('Test Precision', Precision)\n",
    "F1 = metrics.f1_score(ts1_y, pred, average='weighted')\n",
    "print('F1', F1)\n",
    "matrix = metrics.confusion_matrix(ts1_y, pred)\n",
    "print('Confusion Matrix', matrix)"
   ]
  },
  {
   "cell_type": "code",
   "execution_count": 83,
   "metadata": {},
   "outputs": [
    {
     "name": "stdout",
     "output_type": "stream",
     "text": [
      "Classification report for KNN-LDA-PCA classifier KNeighborsClassifier(algorithm='auto', leaf_size=30, metric='minkowski',\n",
      "           metric_params=None, n_jobs=1, n_neighbors=15, p=2,\n",
      "           weights='uniform'):\n",
      "             precision    recall  f1-score   support\n",
      "\n",
      "        0.0       0.95      0.97      0.96      1368\n",
      "        1.0       0.94      0.97      0.95      1589\n",
      "        2.0       0.91      0.90      0.91      1397\n",
      "        3.0       0.90      0.87      0.88      1414\n",
      "        4.0       0.90      0.93      0.92      1318\n",
      "        5.0       0.88      0.85      0.87      1254\n",
      "        6.0       0.95      0.96      0.96      1355\n",
      "        7.0       0.94      0.92      0.93      1492\n",
      "        8.0       0.89      0.86      0.87      1370\n",
      "        9.0       0.90      0.91      0.90      1443\n",
      "\n",
      "avg / total       0.92      0.92      0.92     14000\n",
      "\n",
      "\n"
     ]
    }
   ],
   "source": [
    "print(\"Classification report for KNN-LDA-PCA classifier %s:\\n%s\\n\"\n",
    "     % (knn, metrics.classification_report(ts1_y, pred)))"
   ]
  },
  {
   "cell_type": "code",
   "execution_count": null,
   "metadata": {
    "collapsed": true
   },
   "outputs": [],
   "source": []
  }
 ],
 "metadata": {
  "kernelspec": {
   "display_name": "Python 3",
   "language": "python",
   "name": "python3"
  },
  "language_info": {
   "codemirror_mode": {
    "name": "ipython",
    "version": 3
   },
   "file_extension": ".py",
   "mimetype": "text/x-python",
   "name": "python",
   "nbconvert_exporter": "python",
   "pygments_lexer": "ipython3",
   "version": "3.5.4"
  }
 },
 "nbformat": 4,
 "nbformat_minor": 2
}
