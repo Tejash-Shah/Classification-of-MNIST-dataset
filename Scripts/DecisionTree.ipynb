{
 "cells": [
  {
   "cell_type": "code",
   "execution_count": 2,
   "metadata": {},
   "outputs": [],
   "source": [
    "import numpy as np\n",
    "import tensorflow as tf\n",
    "from sklearn.datasets import fetch_mldata\n",
    "import matplotlib.pyplot as plt\n",
    "from sklearn import datasets, svm, metrics\n",
    "from sklearn import cross_validation\n",
    "#from sklearn.neural_network import MLPClassifier\n",
    "from sklearn import tree\n",
    "import time \n",
    "from sklearn import neighbors\n",
    "from sklearn.utils import shuffle\n",
    "tf.logging.set_verbosity(tf.logging.ERROR)"
   ]
  },
  {
   "cell_type": "code",
   "execution_count": 3,
   "metadata": {
    "collapsed": true
   },
   "outputs": [],
   "source": [
    "mnist = fetch_mldata(\"MNIST original\")"
   ]
  },
  {
   "cell_type": "code",
   "execution_count": 4,
   "metadata": {},
   "outputs": [
    {
     "name": "stdout",
     "output_type": "stream",
     "text": [
      "(70000, 784)\n"
     ]
    }
   ],
   "source": [
    "print(mnist.data.shape)"
   ]
  },
  {
   "cell_type": "code",
   "execution_count": 5,
   "metadata": {},
   "outputs": [
    {
     "name": "stdout",
     "output_type": "stream",
     "text": [
      "[ 0.  1.  2.  3.  4.  5.  6.  7.  8.  9.]\n"
     ]
    }
   ],
   "source": [
    "print(np.unique(mnist.target))"
   ]
  },
  {
   "cell_type": "code",
   "execution_count": 6,
   "metadata": {
    "collapsed": true
   },
   "outputs": [],
   "source": [
    "X, y = np.float32(mnist.data[:70000]), np.float32(mnist.target[:70000])\n",
    "X, y = shuffle(X,y)"
   ]
  },
  {
   "cell_type": "code",
   "execution_count": 7,
   "metadata": {
    "collapsed": true
   },
   "outputs": [],
   "source": [
    "#X, y = np.float32(mnist.data[:70000]), np.float32(mnist.target[:70000])\n",
    "X_train, y_train = np.float32(X[:15000]), np.float32(y[:15000])\n",
    "X_test, y_test = np.float32(X[60000:]), np.float32(y[60000:])"
   ]
  },
  {
   "cell_type": "code",
   "execution_count": 8,
   "metadata": {
    "collapsed": true
   },
   "outputs": [],
   "source": [
    "start = int(round(time.time() * 1000))"
   ]
  },
  {
   "cell_type": "code",
   "execution_count": 10,
   "metadata": {},
   "outputs": [],
   "source": [
    "DT=tree.DecisionTreeClassifier(random_state=1)\n",
    "DT.fit(X_train,y_train)\n",
    "predicted=DT.predict(X_test)\n",
    "expected=y_test"
   ]
  },
  {
   "cell_type": "code",
   "execution_count": 12,
   "metadata": {},
   "outputs": [
    {
     "name": "stdout",
     "output_type": "stream",
     "text": [
      "[ 0.80919081  0.8015318   0.81433333  0.80787191  0.82309746]\n"
     ]
    }
   ],
   "source": [
    "print(cross_validation.cross_val_score(DT, X_train,y_train, cv=5))"
   ]
  },
  {
   "cell_type": "code",
   "execution_count": 13,
   "metadata": {},
   "outputs": [
    {
     "name": "stdout",
     "output_type": "stream",
     "text": [
      "--NN fitting finished in  108561 ms--------------\n"
     ]
    }
   ],
   "source": [
    "end = int(round(time.time() * 1000))\n",
    "print(\"--NN fitting finished in \", (end-start), \"ms--------------\")"
   ]
  },
  {
   "cell_type": "code",
   "execution_count": 15,
   "metadata": {},
   "outputs": [
    {
     "name": "stdout",
     "output_type": "stream",
     "text": [
      "Classification report for kNN classifier DecisionTreeClassifier(class_weight=None, criterion='gini', max_depth=None,\n",
      "            max_features=None, max_leaf_nodes=None,\n",
      "            min_impurity_decrease=0.0, min_impurity_split=None,\n",
      "            min_samples_leaf=1, min_samples_split=2,\n",
      "            min_weight_fraction_leaf=0.0, presort=False, random_state=1,\n",
      "            splitter='best'):\n",
      "             precision    recall  f1-score   support\n",
      "\n",
      "        0.0       0.90      0.91      0.91      1011\n",
      "        1.0       0.92      0.95      0.93      1129\n",
      "        2.0       0.76      0.78      0.77       942\n",
      "        3.0       0.79      0.77      0.78       992\n",
      "        4.0       0.80      0.77      0.78       935\n",
      "        5.0       0.76      0.76      0.76       902\n",
      "        6.0       0.86      0.83      0.85      1004\n",
      "        7.0       0.87      0.84      0.86      1098\n",
      "        8.0       0.77      0.74      0.75       967\n",
      "        9.0       0.74      0.80      0.77      1020\n",
      "\n",
      "avg / total       0.82      0.82      0.82     10000\n",
      "\n",
      "\n",
      "Confusion matrix:\n",
      "[[ 922    0    5   14    4   20   15    9   16    6]\n",
      " [   1 1069   17    4   10    2    6    5   12    3]\n",
      " [  15   16  737   32   14   18   29   26   37   18]\n",
      " [   7    7   41  759   10   72    6   20   30   40]\n",
      " [   5   13   27   11  718   18   16   13   30   84]\n",
      " [  26   13   14   46   19  690   29   11   31   23]\n",
      " [  22   10   26    9   31   34  835    7   23    7]\n",
      " [   6   11   34   17   22    7    7  925   11   58]\n",
      " [  13   22   51   40   23   27   20   14  715   42]\n",
      " [   8    4   15   32   52   22    8   34   29  816]]\n"
     ]
    }
   ],
   "source": [
    "print(\"Classification report for kNN classifier %s:\\n%s\\n\"\n",
    "     % (DT, metrics.classification_report(expected, predicted)))\n",
    "print(\"Confusion matrix:\\n%s\" % metrics.confusion_matrix(expected, predicted))"
   ]
  },
  {
   "cell_type": "code",
   "execution_count": 16,
   "metadata": {},
   "outputs": [
    {
     "name": "stdout",
     "output_type": "stream",
     "text": [
      "Accuracy is: 81.86\n"
     ]
    }
   ],
   "source": [
    "print(\"Accuracy is:\",round(metrics.accuracy_score(expected,predicted)*100,2))"
   ]
  },
  {
   "cell_type": "code",
   "execution_count": 17,
   "metadata": {},
   "outputs": [
    {
     "name": "stdout",
     "output_type": "stream",
     "text": [
      "Test error is: 18.14\n"
     ]
    }
   ],
   "source": [
    "print(\"Test error is:\",100-round(metrics.accuracy_score(expected,predicted)*100,2))"
   ]
  },
  {
   "cell_type": "code",
   "execution_count": 18,
   "metadata": {},
   "outputs": [
    {
     "name": "stdout",
     "output_type": "stream",
     "text": [
      "Confusion matrix:\n",
      "[[ 922    0    5   14    4   20   15    9   16    6]\n",
      " [   1 1069   17    4   10    2    6    5   12    3]\n",
      " [  15   16  737   32   14   18   29   26   37   18]\n",
      " [   7    7   41  759   10   72    6   20   30   40]\n",
      " [   5   13   27   11  718   18   16   13   30   84]\n",
      " [  26   13   14   46   19  690   29   11   31   23]\n",
      " [  22   10   26    9   31   34  835    7   23    7]\n",
      " [   6   11   34   17   22    7    7  925   11   58]\n",
      " [  13   22   51   40   23   27   20   14  715   42]\n",
      " [   8    4   15   32   52   22    8   34   29  816]]\n"
     ]
    }
   ],
   "source": [
    "print(\"Confusion matrix:\\n%s\" % metrics.confusion_matrix(expected, predicted))"
   ]
  }
 ],
 "metadata": {
  "kernelspec": {
   "display_name": "Python 3",
   "language": "python",
   "name": "python3"
  },
  "language_info": {
   "codemirror_mode": {
    "name": "ipython",
    "version": 3
   },
   "file_extension": ".py",
   "mimetype": "text/x-python",
   "name": "python",
   "nbconvert_exporter": "python",
   "pygments_lexer": "ipython3",
   "version": "3.5.4"
  }
 },
 "nbformat": 4,
 "nbformat_minor": 2
}
