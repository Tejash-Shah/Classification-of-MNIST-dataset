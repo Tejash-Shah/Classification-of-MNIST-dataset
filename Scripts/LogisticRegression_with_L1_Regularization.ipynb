{
 "cells": [
  {
   "cell_type": "code",
   "execution_count": 9,
   "metadata": {
    "collapsed": true
   },
   "outputs": [],
   "source": [
    "import numpy as np\n",
    "import tensorflow as tf\n",
    "from sklearn.datasets import fetch_mldata\n",
    "import matplotlib.pyplot as plt\n",
    "from sklearn import datasets, svm, metrics\n",
    "from sklearn import cross_validation\n",
    "#from sklearn.neural_network import MLPClassifier\n",
    "from sklearn import tree\n",
    "import time \n",
    "from sklearn import neighbors\n",
    "from sklearn.utils import shuffle\n",
    "tf.logging.set_verbosity(tf.logging.ERROR)\n",
    "from sklearn.naive_bayes import BernoulliNB\n",
    "from sklearn.linear_model import LogisticRegression"
   ]
  },
  {
   "cell_type": "code",
   "execution_count": 10,
   "metadata": {
    "collapsed": true
   },
   "outputs": [],
   "source": [
    "mnist = fetch_mldata(\"MNIST original\")"
   ]
  },
  {
   "cell_type": "code",
   "execution_count": 11,
   "metadata": {},
   "outputs": [
    {
     "name": "stdout",
     "output_type": "stream",
     "text": [
      "(70000, 784)\n"
     ]
    }
   ],
   "source": [
    "print(mnist.data.shape)"
   ]
  },
  {
   "cell_type": "code",
   "execution_count": 12,
   "metadata": {},
   "outputs": [
    {
     "name": "stdout",
     "output_type": "stream",
     "text": [
      "[ 0.  1.  2.  3.  4.  5.  6.  7.  8.  9.]\n"
     ]
    }
   ],
   "source": [
    "print(np.unique(mnist.target))"
   ]
  },
  {
   "cell_type": "code",
   "execution_count": 13,
   "metadata": {
    "collapsed": true
   },
   "outputs": [],
   "source": [
    "X, y = np.float32(mnist.data[:70000]), np.float32(mnist.target[:70000])\n",
    "X, y = shuffle(X,y)"
   ]
  },
  {
   "cell_type": "code",
   "execution_count": 14,
   "metadata": {
    "collapsed": true
   },
   "outputs": [],
   "source": [
    "#X, y = np.float32(mnist.data[:70000]), np.float32(mnist.target[:70000])\n",
    "X_train, y_train = np.float32(X[:15000]), np.float32(y[:15000])\n",
    "X_test, y_test = np.float32(X[60000:]), np.float32(y[60000:])"
   ]
  },
  {
   "cell_type": "code",
   "execution_count": 15,
   "metadata": {
    "collapsed": true
   },
   "outputs": [],
   "source": [
    "start = int(round(time.time() * 1000))"
   ]
  },
  {
   "cell_type": "code",
   "execution_count": 16,
   "metadata": {},
   "outputs": [
    {
     "name": "stdout",
     "output_type": "stream",
     "text": [
      "--NN fitting finished in  8428 ms--------------\n"
     ]
    }
   ],
   "source": [
    "LR = LogisticRegression(solver='liblinear',max_iter=10)\n",
    "LR.fit(X_train,y_train)\n",
    "end = int(round(time.time() * 1000))\n",
    "print(\"--NN fitting finished in \", (end-start), \"ms--------------\")\n",
    "predicted=LR.predict(X_test)\n",
    "expected=y_test"
   ]
  },
  {
   "cell_type": "code",
   "execution_count": 17,
   "metadata": {},
   "outputs": [
    {
     "name": "stdout",
     "output_type": "stream",
     "text": [
      "[ 0.8968386   0.90373085  0.88796265  0.90627085  0.8965287 ]\n"
     ]
    }
   ],
   "source": [
    "print(cross_validation.cross_val_score(LR, X_train,y_train, cv=5))"
   ]
  },
  {
   "cell_type": "code",
   "execution_count": 18,
   "metadata": {},
   "outputs": [
    {
     "name": "stdout",
     "output_type": "stream",
     "text": [
      "Classification report for kNN classifier LogisticRegression(C=1.0, class_weight=None, dual=False, fit_intercept=True,\n",
      "          intercept_scaling=1, max_iter=10, multi_class='ovr', n_jobs=1,\n",
      "          penalty='l2', random_state=None, solver='liblinear', tol=0.0001,\n",
      "          verbose=0, warm_start=False):\n",
      "             precision    recall  f1-score   support\n",
      "\n",
      "        0.0       0.94      0.97      0.96       959\n",
      "        1.0       0.94      0.97      0.96      1147\n",
      "        2.0       0.90      0.85      0.88       999\n",
      "        3.0       0.88      0.87      0.87      1043\n",
      "        4.0       0.91      0.91      0.91       942\n",
      "        5.0       0.86      0.82      0.84       886\n",
      "        6.0       0.92      0.94      0.93      1007\n",
      "        7.0       0.92      0.91      0.91      1033\n",
      "        8.0       0.82      0.84      0.83       988\n",
      "        9.0       0.84      0.86      0.85       996\n",
      "\n",
      "avg / total       0.90      0.90      0.90     10000\n",
      "\n",
      "\n",
      "Confusion matrix:\n",
      "[[ 932    0    8    3    1    5    4    0    6    0]\n",
      " [   1 1114    5    3    1    2    3    0   14    4]\n",
      " [   8   15  852   21   16    4   21   11   47    4]\n",
      " [   6    7   33  903    2   30    7   11   24   20]\n",
      " [   3    4    5    2  860    2    5    1   12   48]\n",
      " [  14    7    4   37   11  723   30    4   41   15]\n",
      " [   3    4    7    1    9   22  949    0   12    0]\n",
      " [   8    6   13    9    9    1    2  935    4   46]\n",
      " [   6   21   14   33    6   46    7    6  828   21]\n",
      " [  10    5    2   13   31    6    0   47   23  859]]\n"
     ]
    }
   ],
   "source": [
    "print(\"Classification report for kNN classifier %s:\\n%s\\n\"\n",
    "     % (LR, metrics.classification_report(expected, predicted)))\n",
    "print(\"Confusion matrix:\\n%s\" % metrics.confusion_matrix(expected, predicted))"
   ]
  },
  {
   "cell_type": "code",
   "execution_count": 19,
   "metadata": {},
   "outputs": [
    {
     "name": "stdout",
     "output_type": "stream",
     "text": [
      "Accuracy is: 89.55\n"
     ]
    }
   ],
   "source": [
    "print(\"Accuracy is:\",round(metrics.accuracy_score(expected,predicted)*100,2))"
   ]
  },
  {
   "cell_type": "code",
   "execution_count": 20,
   "metadata": {},
   "outputs": [
    {
     "name": "stdout",
     "output_type": "stream",
     "text": [
      "Test error is: 10.45\n"
     ]
    }
   ],
   "source": [
    "print(\"Test error is:\",100-round(metrics.accuracy_score(expected,predicted)*100,2))"
   ]
  }
 ],
 "metadata": {
  "kernelspec": {
   "display_name": "Python 3",
   "language": "python",
   "name": "python3"
  },
  "language_info": {
   "codemirror_mode": {
    "name": "ipython",
    "version": 3
   },
   "file_extension": ".py",
   "mimetype": "text/x-python",
   "name": "python",
   "nbconvert_exporter": "python",
   "pygments_lexer": "ipython3",
   "version": "3.5.4"
  }
 },
 "nbformat": 4,
 "nbformat_minor": 2
}
