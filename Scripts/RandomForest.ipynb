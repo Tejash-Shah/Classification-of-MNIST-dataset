{
 "cells": [
  {
   "cell_type": "code",
   "execution_count": 16,
   "metadata": {},
   "outputs": [],
   "source": [
    "import numpy as np\n",
    "import tensorflow as tf\n",
    "from sklearn.datasets import fetch_mldata\n",
    "import matplotlib.pyplot as plt\n",
    "from sklearn import datasets, svm, metrics\n",
    "from sklearn import cross_validation\n",
    "#from sklearn.neural_network import MLPClassifier\n",
    "from sklearn import tree\n",
    "import time \n",
    "from sklearn import neighbors\n",
    "from sklearn.utils import shuffle\n",
    "tf.logging.set_verbosity(tf.logging.ERROR)\n",
    "from sklearn.ensemble import RandomForestClassifier"
   ]
  },
  {
   "cell_type": "code",
   "execution_count": 17,
   "metadata": {
    "collapsed": true
   },
   "outputs": [],
   "source": [
    "mnist = fetch_mldata(\"MNIST original\")"
   ]
  },
  {
   "cell_type": "code",
   "execution_count": 18,
   "metadata": {},
   "outputs": [
    {
     "name": "stdout",
     "output_type": "stream",
     "text": [
      "(70000, 784)\n"
     ]
    }
   ],
   "source": [
    "print(mnist.data.shape)"
   ]
  },
  {
   "cell_type": "code",
   "execution_count": 19,
   "metadata": {},
   "outputs": [
    {
     "name": "stdout",
     "output_type": "stream",
     "text": [
      "[ 0.  1.  2.  3.  4.  5.  6.  7.  8.  9.]\n"
     ]
    }
   ],
   "source": [
    "print(np.unique(mnist.target))"
   ]
  },
  {
   "cell_type": "code",
   "execution_count": 20,
   "metadata": {
    "collapsed": true
   },
   "outputs": [],
   "source": [
    "X, y = np.float32(mnist.data[:70000]), np.float32(mnist.target[:70000])\n",
    "X, y = shuffle(X,y)"
   ]
  },
  {
   "cell_type": "code",
   "execution_count": 21,
   "metadata": {
    "collapsed": true
   },
   "outputs": [],
   "source": [
    "#X, y = np.float32(mnist.data[:70000]), np.float32(mnist.target[:70000])\n",
    "X_train, y_train = np.float32(X[:15000]), np.float32(y[:15000])\n",
    "X_test, y_test = np.float32(X[60000:]), np.float32(y[60000:])"
   ]
  },
  {
   "cell_type": "code",
   "execution_count": 22,
   "metadata": {},
   "outputs": [
    {
     "name": "stdout",
     "output_type": "stream",
     "text": [
      "--NN fitting finished in  1920 ms--------------\n"
     ]
    }
   ],
   "source": [
    "start = int(round(time.time() * 1000))\n",
    "RF=RandomForestClassifier(random_state=1)\n",
    "RF.fit(X_train,y_train)\n",
    "end = int(round(time.time() * 1000))\n",
    "print(\"--NN fitting finished in \", (end-start), \"ms--------------\")\n",
    "predicted=RF.predict(X_test)\n",
    "expected=y_test"
   ]
  },
  {
   "cell_type": "code",
   "execution_count": 23,
   "metadata": {},
   "outputs": [
    {
     "name": "stdout",
     "output_type": "stream",
     "text": [
      "[ 0.91711052  0.9170553   0.91397132  0.91827885  0.9039039 ]\n"
     ]
    }
   ],
   "source": [
    "print(cross_validation.cross_val_score(RF, X_train,y_train, cv=5))"
   ]
  },
  {
   "cell_type": "code",
   "execution_count": 24,
   "metadata": {},
   "outputs": [
    {
     "name": "stdout",
     "output_type": "stream",
     "text": [
      "Classification report for kNN classifier RandomForestClassifier(bootstrap=True, class_weight=None, criterion='gini',\n",
      "            max_depth=None, max_features='auto', max_leaf_nodes=None,\n",
      "            min_impurity_decrease=0.0, min_impurity_split=None,\n",
      "            min_samples_leaf=1, min_samples_split=2,\n",
      "            min_weight_fraction_leaf=0.0, n_estimators=10, n_jobs=1,\n",
      "            oob_score=False, random_state=1, verbose=0, warm_start=False):\n",
      "             precision    recall  f1-score   support\n",
      "\n",
      "        0.0       0.94      0.98      0.96       998\n",
      "        1.0       0.95      0.98      0.96      1191\n",
      "        2.0       0.91      0.93      0.92       975\n",
      "        3.0       0.89      0.90      0.90      1015\n",
      "        4.0       0.92      0.93      0.92       952\n",
      "        5.0       0.91      0.88      0.90       894\n",
      "        6.0       0.96      0.94      0.95       999\n",
      "        7.0       0.94      0.93      0.94      1031\n",
      "        8.0       0.92      0.85      0.88       958\n",
      "        9.0       0.90      0.90      0.90       987\n",
      "\n",
      "avg / total       0.92      0.92      0.92     10000\n",
      "\n",
      "\n",
      "Confusion matrix:\n",
      "[[ 974    0    2    3    0    5    7    0    7    0]\n",
      " [   0 1171    2    3    3    0    3    4    4    1]\n",
      " [   9   10  904   12    8    5    7   10    7    3]\n",
      " [   8   10   29  913    0   21    1    8   17    8]\n",
      " [  11    2    4    2  881    3    5    2    8   34]\n",
      " [   6   11    7   37    9  789    9    8    9    9]\n",
      " [   9    6    9    3    7   16  942    0    7    0]\n",
      " [   6    9   12    5    7    4    1  961    2   24]\n",
      " [   9   14   24   36    9   14    7    5  817   23]\n",
      " [   5    3    5    9   35    9    0   23   11  887]]\n"
     ]
    }
   ],
   "source": [
    "print(\"Classification report for kNN classifier %s:\\n%s\\n\"\n",
    "     % (RF, metrics.classification_report(expected, predicted)))\n",
    "print(\"Confusion matrix:\\n%s\" % metrics.confusion_matrix(expected, predicted))"
   ]
  },
  {
   "cell_type": "code",
   "execution_count": 25,
   "metadata": {},
   "outputs": [
    {
     "name": "stdout",
     "output_type": "stream",
     "text": [
      "Accuracy is: 92.39\n"
     ]
    }
   ],
   "source": [
    "print(\"Accuracy is:\",round(metrics.accuracy_score(expected,predicted)*100,2))"
   ]
  },
  {
   "cell_type": "code",
   "execution_count": 26,
   "metadata": {},
   "outputs": [
    {
     "name": "stdout",
     "output_type": "stream",
     "text": [
      "Test error is: 7.61\n"
     ]
    }
   ],
   "source": [
    "print(\"Test error is:\",100-round(metrics.accuracy_score(expected,predicted)*100,2))"
   ]
  },
  {
   "cell_type": "code",
   "execution_count": 27,
   "metadata": {},
   "outputs": [
    {
     "name": "stdout",
     "output_type": "stream",
     "text": [
      "Confusion matrix:\n",
      "[[ 974    0    2    3    0    5    7    0    7    0]\n",
      " [   0 1171    2    3    3    0    3    4    4    1]\n",
      " [   9   10  904   12    8    5    7   10    7    3]\n",
      " [   8   10   29  913    0   21    1    8   17    8]\n",
      " [  11    2    4    2  881    3    5    2    8   34]\n",
      " [   6   11    7   37    9  789    9    8    9    9]\n",
      " [   9    6    9    3    7   16  942    0    7    0]\n",
      " [   6    9   12    5    7    4    1  961    2   24]\n",
      " [   9   14   24   36    9   14    7    5  817   23]\n",
      " [   5    3    5    9   35    9    0   23   11  887]]\n"
     ]
    }
   ],
   "source": [
    "print(\"Confusion matrix:\\n%s\" % metrics.confusion_matrix(expected, predicted))"
   ]
  }
 ],
 "metadata": {
  "kernelspec": {
   "display_name": "Python 3",
   "language": "python",
   "name": "python3"
  },
  "language_info": {
   "codemirror_mode": {
    "name": "ipython",
    "version": 3
   },
   "file_extension": ".py",
   "mimetype": "text/x-python",
   "name": "python",
   "nbconvert_exporter": "python",
   "pygments_lexer": "ipython3",
   "version": "3.5.4"
  }
 },
 "nbformat": 4,
 "nbformat_minor": 2
}
