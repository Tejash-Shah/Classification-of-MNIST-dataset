{
 "cells": [
  {
   "cell_type": "code",
   "execution_count": 1,
   "metadata": {},
   "outputs": [
    {
     "name": "stderr",
     "output_type": "stream",
     "text": [
      "C:\\Users\\steja\\Anaconda2\\envs\\tensorflow\\lib\\site-packages\\sklearn\\cross_validation.py:41: DeprecationWarning: This module was deprecated in version 0.18 in favor of the model_selection module into which all the refactored classes and functions are moved. Also note that the interface of the new CV iterators are different from that of this module. This module will be removed in 0.20.\n",
      "  \"This module will be removed in 0.20.\", DeprecationWarning)\n"
     ]
    }
   ],
   "source": [
    "import numpy as np\n",
    "import tensorflow as tf\n",
    "from sklearn.datasets import fetch_mldata\n",
    "import matplotlib.pyplot as plt\n",
    "from sklearn import datasets, svm, metrics\n",
    "from sklearn import cross_validation\n",
    "#from sklearn.neural_network import MLPClassifier\n",
    "from sklearn import tree\n",
    "import time \n",
    "from sklearn import neighbors\n",
    "from sklearn.utils import shuffle\n",
    "tf.logging.set_verbosity(tf.logging.ERROR)\n",
    "from sklearn.naive_bayes import GaussianNB\n",
    "from sklearn.decomposition import PCA\n",
    "from sklearn.discriminant_analysis import LinearDiscriminantAnalysis"
   ]
  },
  {
   "cell_type": "code",
   "execution_count": 2,
   "metadata": {
    "collapsed": true
   },
   "outputs": [],
   "source": [
    "mnist = fetch_mldata(\"MNIST original\")"
   ]
  },
  {
   "cell_type": "code",
   "execution_count": 3,
   "metadata": {},
   "outputs": [
    {
     "name": "stdout",
     "output_type": "stream",
     "text": [
      "(70000, 784)\n"
     ]
    }
   ],
   "source": [
    "print(mnist.data.shape)"
   ]
  },
  {
   "cell_type": "code",
   "execution_count": 4,
   "metadata": {},
   "outputs": [
    {
     "name": "stdout",
     "output_type": "stream",
     "text": [
      "[ 0.  1.  2.  3.  4.  5.  6.  7.  8.  9.]\n"
     ]
    }
   ],
   "source": [
    "print(np.unique(mnist.target))"
   ]
  },
  {
   "cell_type": "code",
   "execution_count": 5,
   "metadata": {
    "collapsed": true
   },
   "outputs": [],
   "source": [
    "X, y = np.float32(mnist.data[:70000]), np.float32(mnist.target[:70000])\n",
    "X, y = shuffle(X,y)"
   ]
  },
  {
   "cell_type": "code",
   "execution_count": 6,
   "metadata": {
    "collapsed": true
   },
   "outputs": [],
   "source": [
    "#X, y = np.float32(mnist.data[:70000]), np.float32(mnist.target[:70000])\n",
    "X_train, y_train = np.float32(X[:15000]), np.float32(y[:15000])\n",
    "X_test, y_test = np.float32(X[60000:]), np.float32(y[60000:])"
   ]
  },
  {
   "cell_type": "markdown",
   "metadata": {},
   "source": [
    "# PCA"
   ]
  },
  {
   "cell_type": "code",
   "execution_count": 7,
   "metadata": {},
   "outputs": [
    {
     "name": "stdout",
     "output_type": "stream",
     "text": [
      "Variance covered 1.0\n",
      "PCA Shape (15000, 700)\n"
     ]
    }
   ],
   "source": [
    "pca = PCA(n_components=700)\n",
    "X_train_pca = pca.fit_transform(X_train, y_train)\n",
    "X_test_pca = pca.transform(X_test)\n",
    "print('Variance covered', pca.explained_variance_ratio_.sum())\n",
    "print('PCA Shape', X_train_pca.shape)"
   ]
  },
  {
   "cell_type": "markdown",
   "metadata": {},
   "source": [
    "#LDA"
   ]
  },
  {
   "cell_type": "code",
   "execution_count": 8,
   "metadata": {},
   "outputs": [
    {
     "name": "stdout",
     "output_type": "stream",
     "text": [
      "Variance covered 1.0\n",
      "PCA Shape (15000, 9)\n"
     ]
    }
   ],
   "source": [
    "lda = LinearDiscriminantAnalysis()\n",
    "X_train_lda = lda.fit_transform(X_train_pca, y_train)\n",
    "X_test_lda = lda.transform(X_test_pca)\n",
    "print('Variance covered', lda.explained_variance_ratio_.sum())\n",
    "print('PCA Shape', X_train_lda.shape)"
   ]
  },
  {
   "cell_type": "code",
   "execution_count": 9,
   "metadata": {
    "collapsed": true
   },
   "outputs": [],
   "source": [
    "start = int(round(time.time() * 1000))"
   ]
  },
  {
   "cell_type": "code",
   "execution_count": 10,
   "metadata": {},
   "outputs": [
    {
     "name": "stdout",
     "output_type": "stream",
     "text": [
      "--NN fitting finished in  265 ms--------------\n"
     ]
    }
   ],
   "source": [
    "GB = GaussianNB()\n",
    "GB.fit(X_train_lda,y_train)\n",
    "end = int(round(time.time() * 1000))\n",
    "print(\"--NN fitting finished in \", (end-start), \"ms--------------\")\n",
    "predicted=GB.predict(X_test_lda)\n",
    "expected=y_test"
   ]
  },
  {
   "cell_type": "code",
   "execution_count": 11,
   "metadata": {},
   "outputs": [
    {
     "name": "stdout",
     "output_type": "stream",
     "text": [
      "[ 0.90083195  0.88740839  0.88929643  0.89259506  0.88785047]\n"
     ]
    }
   ],
   "source": [
    "print(cross_validation.cross_val_score(GB, X_train_lda,y_train, cv=5))"
   ]
  },
  {
   "cell_type": "code",
   "execution_count": 12,
   "metadata": {},
   "outputs": [
    {
     "name": "stdout",
     "output_type": "stream",
     "text": [
      "Classification report for kNN classifier GaussianNB(priors=None):\n",
      "             precision    recall  f1-score   support\n",
      "\n",
      "        0.0       0.95      0.93      0.94       987\n",
      "        1.0       0.94      0.91      0.92      1091\n",
      "        2.0       0.84      0.85      0.84      1017\n",
      "        3.0       0.83      0.84      0.83       988\n",
      "        4.0       0.87      0.87      0.87       992\n",
      "        5.0       0.81      0.79      0.80       919\n",
      "        6.0       0.91      0.91      0.91       985\n",
      "        7.0       0.90      0.85      0.88      1055\n",
      "        8.0       0.75      0.82      0.78       972\n",
      "        9.0       0.81      0.83      0.82       994\n",
      "\n",
      "avg / total       0.86      0.86      0.86     10000\n",
      "\n",
      "\n",
      "Confusion matrix:\n",
      "[[915   0   8   4   0  23  20   0  14   3]\n",
      " [  0 993  15   5   1   3   3   3  68   0]\n",
      " [  8  11 860  34  23  10  19   6  40   6]\n",
      " [  0   9  46 825   0  42   3  25  24  14]\n",
      " [  3   1  13   3 861   9  12   4  27  59]\n",
      " [ 10   4  14  44  11 725  21   7  68  15]\n",
      " [  9   3  18   2  10  33 897   0  13   0]\n",
      " [  3   8  20  17  20   2   0 900   4  81]\n",
      " [  6  28  21  39  11  41   6   1 800  19]\n",
      " [ 12   1   9  16  52   7   1  55  12 829]]\n"
     ]
    }
   ],
   "source": [
    "print(\"Classification report for kNN classifier %s:\\n%s\\n\"\n",
    "     % (GB, metrics.classification_report(expected, predicted)))\n",
    "print(\"Confusion matrix:\\n%s\" % metrics.confusion_matrix(expected, predicted))"
   ]
  },
  {
   "cell_type": "code",
   "execution_count": 13,
   "metadata": {},
   "outputs": [
    {
     "name": "stdout",
     "output_type": "stream",
     "text": [
      "Accuracy is: 86.05\n"
     ]
    }
   ],
   "source": [
    "print(\"Accuracy is:\",round(metrics.accuracy_score(expected,predicted)*100,2))"
   ]
  },
  {
   "cell_type": "code",
   "execution_count": 14,
   "metadata": {},
   "outputs": [
    {
     "name": "stdout",
     "output_type": "stream",
     "text": [
      "Test error is: 13.95\n"
     ]
    }
   ],
   "source": [
    "print(\"Test error is:\",100-round(metrics.accuracy_score(expected,predicted)*100,2))"
   ]
  },
  {
   "cell_type": "code",
   "execution_count": 15,
   "metadata": {},
   "outputs": [
    {
     "name": "stdout",
     "output_type": "stream",
     "text": [
      "Confusion matrix:\n",
      "[[915   0   8   4   0  23  20   0  14   3]\n",
      " [  0 993  15   5   1   3   3   3  68   0]\n",
      " [  8  11 860  34  23  10  19   6  40   6]\n",
      " [  0   9  46 825   0  42   3  25  24  14]\n",
      " [  3   1  13   3 861   9  12   4  27  59]\n",
      " [ 10   4  14  44  11 725  21   7  68  15]\n",
      " [  9   3  18   2  10  33 897   0  13   0]\n",
      " [  3   8  20  17  20   2   0 900   4  81]\n",
      " [  6  28  21  39  11  41   6   1 800  19]\n",
      " [ 12   1   9  16  52   7   1  55  12 829]]\n"
     ]
    }
   ],
   "source": [
    "print(\"Confusion matrix:\\n%s\" % metrics.confusion_matrix(expected, predicted))"
   ]
  }
 ],
 "metadata": {
  "kernelspec": {
   "display_name": "Python 3",
   "language": "python",
   "name": "python3"
  },
  "language_info": {
   "codemirror_mode": {
    "name": "ipython",
    "version": 3
   },
   "file_extension": ".py",
   "mimetype": "text/x-python",
   "name": "python",
   "nbconvert_exporter": "python",
   "pygments_lexer": "ipython3",
   "version": "3.5.4"
  }
 },
 "nbformat": 4,
 "nbformat_minor": 2
}
