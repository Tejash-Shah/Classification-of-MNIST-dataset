{
 "cells": [
  {
   "cell_type": "code",
   "execution_count": 38,
   "metadata": {
    "collapsed": true
   },
   "outputs": [],
   "source": [
    "import numpy as np\n",
    "import tensorflow as tf\n",
    "from sklearn.datasets import fetch_mldata\n",
    "import matplotlib.pyplot as plt\n",
    "from sklearn import datasets, svm, metrics\n",
    "from sklearn import cross_validation\n",
    "#from sklearn.neural_network import MLPClassifier\n",
    "from sklearn import tree\n",
    "import time \n",
    "from sklearn import neighbors\n",
    "from sklearn.utils import shuffle\n",
    "tf.logging.set_verbosity(tf.logging.ERROR)\n",
    "from sklearn.decomposition import PCA\n",
    "from sklearn.discriminant_analysis import LinearDiscriminantAnalysis"
   ]
  },
  {
   "cell_type": "code",
   "execution_count": 39,
   "metadata": {
    "collapsed": true
   },
   "outputs": [],
   "source": [
    "mnist = fetch_mldata(\"MNIST original\")"
   ]
  },
  {
   "cell_type": "code",
   "execution_count": 40,
   "metadata": {},
   "outputs": [
    {
     "name": "stdout",
     "output_type": "stream",
     "text": [
      "(70000, 784)\n"
     ]
    }
   ],
   "source": [
    "print(mnist.data.shape)"
   ]
  },
  {
   "cell_type": "code",
   "execution_count": 41,
   "metadata": {},
   "outputs": [
    {
     "name": "stdout",
     "output_type": "stream",
     "text": [
      "[ 0.  1.  2.  3.  4.  5.  6.  7.  8.  9.]\n"
     ]
    }
   ],
   "source": [
    "print(np.unique(mnist.target))"
   ]
  },
  {
   "cell_type": "code",
   "execution_count": 42,
   "metadata": {
    "collapsed": true
   },
   "outputs": [],
   "source": [
    "X, y = np.float32(mnist.data[:70000]), np.float32(mnist.target[:70000])\n",
    "X, y = shuffle(X,y)"
   ]
  },
  {
   "cell_type": "code",
   "execution_count": 43,
   "metadata": {
    "collapsed": true
   },
   "outputs": [],
   "source": [
    "#X, y = np.float32(mnist.data[:70000]), np.float32(mnist.target[:70000])\n",
    "X_train, y_train = np.float32(X[:15000]), np.float32(y[:15000])\n",
    "X_test, y_test = np.float32(X[60000:]), np.float32(y[60000:])"
   ]
  },
  {
   "cell_type": "markdown",
   "metadata": {},
   "source": [
    "# PCA "
   ]
  },
  {
   "cell_type": "code",
   "execution_count": 44,
   "metadata": {},
   "outputs": [
    {
     "name": "stdout",
     "output_type": "stream",
     "text": [
      "Variance covered 1.0\n",
      "PCA Shape (15000, 700)\n"
     ]
    }
   ],
   "source": [
    "pca=PCA(n_components=700)\n",
    "X_train_pca=pca.fit_transform(X_train,y_train)\n",
    "X_test_pca=pca.transform(X_test)\n",
    "print('Variance covered', pca.explained_variance_ratio_.sum())\n",
    "print('PCA Shape', X_train_pca.shape)"
   ]
  },
  {
   "cell_type": "markdown",
   "metadata": {},
   "source": [
    "# LDA"
   ]
  },
  {
   "cell_type": "code",
   "execution_count": 45,
   "metadata": {},
   "outputs": [
    {
     "name": "stdout",
     "output_type": "stream",
     "text": [
      "Variance covered 1.0\n",
      "LDA Shape (15000, 9)\n"
     ]
    }
   ],
   "source": [
    "lda = LinearDiscriminantAnalysis()\n",
    "X_train_lda=lda.fit_transform(X_train_pca,y_train)\n",
    "X_test_lda=lda.transform(X_test_pca)\n",
    "print('Variance covered', lda.explained_variance_ratio_.sum())\n",
    "print('LDA Shape', X_train_lda.shape)"
   ]
  },
  {
   "cell_type": "code",
   "execution_count": 46,
   "metadata": {
    "collapsed": true
   },
   "outputs": [],
   "source": [
    "start = int(round(time.time() * 1000))"
   ]
  },
  {
   "cell_type": "code",
   "execution_count": 47,
   "metadata": {
    "collapsed": true
   },
   "outputs": [],
   "source": [
    "DT=tree.DecisionTreeClassifier(random_state=1)\n",
    "DT.fit(X_train_lda,y_train)\n",
    "predicted=DT.predict(X_test_lda)\n",
    "expected=y_test"
   ]
  },
  {
   "cell_type": "code",
   "execution_count": 48,
   "metadata": {},
   "outputs": [
    {
     "name": "stdout",
     "output_type": "stream",
     "text": [
      "[ 0.83926789  0.84705098  0.84766667  0.84022682  0.83845127]\n"
     ]
    }
   ],
   "source": [
    "print(cross_validation.cross_val_score(DT, X_train_lda,y_train, cv=5))"
   ]
  },
  {
   "cell_type": "code",
   "execution_count": 49,
   "metadata": {},
   "outputs": [
    {
     "name": "stdout",
     "output_type": "stream",
     "text": [
      "--NN fitting finished in  2097 ms--------------\n"
     ]
    }
   ],
   "source": [
    "end = int(round(time.time() * 1000))\n",
    "print(\"--NN fitting finished in \", (end-start), \"ms--------------\")"
   ]
  },
  {
   "cell_type": "code",
   "execution_count": 50,
   "metadata": {},
   "outputs": [
    {
     "name": "stdout",
     "output_type": "stream",
     "text": [
      "Classification report for kNN classifier DecisionTreeClassifier(class_weight=None, criterion='gini', max_depth=None,\n",
      "            max_features=None, max_leaf_nodes=None,\n",
      "            min_impurity_decrease=0.0, min_impurity_split=None,\n",
      "            min_samples_leaf=1, min_samples_split=2,\n",
      "            min_weight_fraction_leaf=0.0, presort=False, random_state=1,\n",
      "            splitter='best'):\n",
      "             precision    recall  f1-score   support\n",
      "\n",
      "        0.0       0.89      0.91      0.90       964\n",
      "        1.0       0.90      0.90      0.90      1127\n",
      "        2.0       0.77      0.79      0.78      1014\n",
      "        3.0       0.77      0.75      0.76      1040\n",
      "        4.0       0.81      0.84      0.82       960\n",
      "        5.0       0.73      0.71      0.72       901\n",
      "        6.0       0.90      0.86      0.88      1008\n",
      "        7.0       0.84      0.84      0.84      1092\n",
      "        8.0       0.71      0.70      0.70       938\n",
      "        9.0       0.74      0.78      0.76       956\n",
      "\n",
      "avg / total       0.81      0.81      0.81     10000\n",
      "\n",
      "\n",
      "Confusion matrix:\n",
      "[[ 877    2   17    2    3   20   16    2   13   12]\n",
      " [   1 1011   24   10    8    4    1   25   38    5]\n",
      " [  17   25  804   45   18   19   24   19   21   22]\n",
      " [   5   10   50  778    6   72    4   28   59   28]\n",
      " [   1    7   16    3  802   13   17   18   11   72]\n",
      " [  22    7   24   67   11  644   14    9   77   26]\n",
      " [  23    8   26   10   23   28  864    1   22    3]\n",
      " [  10    8   20   30   19    9    2  913    9   72]\n",
      " [  13   44   51   45   24   56   18   13  655   19]\n",
      " [  12    2    8   18   77   16    1   55   17  750]]\n"
     ]
    }
   ],
   "source": [
    "print(\"Classification report for kNN classifier %s:\\n%s\\n\"\n",
    "     % (DT, metrics.classification_report(expected, predicted)))\n",
    "print(\"Confusion matrix:\\n%s\" % metrics.confusion_matrix(expected, predicted))"
   ]
  },
  {
   "cell_type": "code",
   "execution_count": 51,
   "metadata": {},
   "outputs": [
    {
     "name": "stdout",
     "output_type": "stream",
     "text": [
      "Accuracy is: 80.98\n"
     ]
    }
   ],
   "source": [
    "print(\"Accuracy is:\",round(metrics.accuracy_score(expected,predicted)*100,2))"
   ]
  },
  {
   "cell_type": "code",
   "execution_count": 52,
   "metadata": {},
   "outputs": [
    {
     "name": "stdout",
     "output_type": "stream",
     "text": [
      "Test error is: 19.02\n"
     ]
    }
   ],
   "source": [
    "print(\"Test error is:\",100-round(metrics.accuracy_score(expected,predicted)*100,2))"
   ]
  },
  {
   "cell_type": "code",
   "execution_count": 53,
   "metadata": {},
   "outputs": [
    {
     "name": "stdout",
     "output_type": "stream",
     "text": [
      "Confusion matrix:\n",
      "[[ 877    2   17    2    3   20   16    2   13   12]\n",
      " [   1 1011   24   10    8    4    1   25   38    5]\n",
      " [  17   25  804   45   18   19   24   19   21   22]\n",
      " [   5   10   50  778    6   72    4   28   59   28]\n",
      " [   1    7   16    3  802   13   17   18   11   72]\n",
      " [  22    7   24   67   11  644   14    9   77   26]\n",
      " [  23    8   26   10   23   28  864    1   22    3]\n",
      " [  10    8   20   30   19    9    2  913    9   72]\n",
      " [  13   44   51   45   24   56   18   13  655   19]\n",
      " [  12    2    8   18   77   16    1   55   17  750]]\n"
     ]
    }
   ],
   "source": [
    "print(\"Confusion matrix:\\n%s\" % metrics.confusion_matrix(expected, predicted))"
   ]
  }
 ],
 "metadata": {
  "kernelspec": {
   "display_name": "Python 3",
   "language": "python",
   "name": "python3"
  },
  "language_info": {
   "codemirror_mode": {
    "name": "ipython",
    "version": 3
   },
   "file_extension": ".py",
   "mimetype": "text/x-python",
   "name": "python",
   "nbconvert_exporter": "python",
   "pygments_lexer": "ipython3",
   "version": "3.5.4"
  }
 },
 "nbformat": 4,
 "nbformat_minor": 2
}
